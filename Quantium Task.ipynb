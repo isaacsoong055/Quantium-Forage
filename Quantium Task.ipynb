{
 "cells": [
  {
   "cell_type": "markdown",
   "id": "35e882e5",
   "metadata": {},
   "source": [
    "Quantium Project Overview: \n",
    "You are part of Quantium’s retail analytics team and have been approached by your client, the Category Manager for Chips, who wants to better understand the types of customers who purchase Chips and their purchasing behaviour within the region.\n",
    "\n",
    "The insights from your analysis will feed into the supermarket’s strategic plan for the chip category in the next half year."
   ]
  },
  {
   "cell_type": "code",
   "execution_count": null,
   "id": "f33c4335",
   "metadata": {},
   "outputs": [],
   "source": [
    "## Importing packages\n",
    "\n",
    "import pandas as pd\n",
    "import numpy as np\n",
    "import matplotlib.pyplot as plt\n",
    "import seaborn as sns"
   ]
  },
  {
   "cell_type": "code",
   "execution_count": 498,
   "id": "60fd06d7-e182-4dae-8214-40f7698d702c",
   "metadata": {},
   "outputs": [],
   "source": [
    "## Importing data\n",
    "\n",
    "transaction_data = pd.read_excel('/Users/isaacsoong/Desktop/Quantium project/QVI_transaction_data.xlsx')\n",
    "customer_data = pd.read_csv('/Users/isaacsoong/Desktop/Quantium project/QVI_purchase_behaviour.csv')"
   ]
  },
  {
   "cell_type": "code",
   "execution_count": 499,
   "id": "87d57219-dfbe-4453-9f70-2f6926cc5204",
   "metadata": {},
   "outputs": [],
   "source": [
    "## Making copies\n",
    "\n",
    "trans_df = transaction_data.copy()\n",
    "cus_df = customer_data.copy()"
   ]
  },
  {
   "cell_type": "code",
   "execution_count": 500,
   "id": "01c11ec5-3eab-433c-9132-03b7209efe28",
   "metadata": {},
   "outputs": [],
   "source": [
    "pd.set_option('display.max_columns', 12)\n",
    "pd.set_option('display.max_rows', 246740)"
   ]
  },
  {
   "cell_type": "code",
   "execution_count": 501,
   "id": "fb012b29-ccee-456e-8405-f466895ed43b",
   "metadata": {},
   "outputs": [],
   "source": [
    "########################################## Data exploration ##########################################"
   ]
  },
  {
   "cell_type": "code",
   "execution_count": 502,
   "id": "df552cc5-7603-40a3-bd91-cceb7ae92320",
   "metadata": {},
   "outputs": [
    {
     "name": "stdout",
     "output_type": "stream",
     "text": [
      "<class 'pandas.core.frame.DataFrame'>\n",
      "RangeIndex: 264836 entries, 0 to 264835\n",
      "Data columns (total 8 columns):\n",
      " #   Column          Non-Null Count   Dtype  \n",
      "---  ------          --------------   -----  \n",
      " 0   DATE            264836 non-null  int64  \n",
      " 1   STORE_NBR       264836 non-null  int64  \n",
      " 2   LYLTY_CARD_NBR  264836 non-null  int64  \n",
      " 3   TXN_ID          264836 non-null  int64  \n",
      " 4   PROD_NBR        264836 non-null  int64  \n",
      " 5   PROD_NAME       264836 non-null  object \n",
      " 6   PROD_QTY        264836 non-null  int64  \n",
      " 7   TOT_SALES       264836 non-null  float64\n",
      "dtypes: float64(1), int64(6), object(1)\n",
      "memory usage: 16.2+ MB\n"
     ]
    },
    {
     "data": {
      "text/html": [
       "<div>\n",
       "<style scoped>\n",
       "    .dataframe tbody tr th:only-of-type {\n",
       "        vertical-align: middle;\n",
       "    }\n",
       "\n",
       "    .dataframe tbody tr th {\n",
       "        vertical-align: top;\n",
       "    }\n",
       "\n",
       "    .dataframe thead th {\n",
       "        text-align: right;\n",
       "    }\n",
       "</style>\n",
       "<table border=\"1\" class=\"dataframe\">\n",
       "  <thead>\n",
       "    <tr style=\"text-align: right;\">\n",
       "      <th></th>\n",
       "      <th>DATE</th>\n",
       "      <th>STORE_NBR</th>\n",
       "      <th>LYLTY_CARD_NBR</th>\n",
       "      <th>TXN_ID</th>\n",
       "      <th>PROD_NBR</th>\n",
       "      <th>PROD_QTY</th>\n",
       "      <th>TOT_SALES</th>\n",
       "    </tr>\n",
       "  </thead>\n",
       "  <tbody>\n",
       "    <tr>\n",
       "      <th>count</th>\n",
       "      <td>264836.000000</td>\n",
       "      <td>264836.00000</td>\n",
       "      <td>2.648360e+05</td>\n",
       "      <td>2.648360e+05</td>\n",
       "      <td>264836.000000</td>\n",
       "      <td>264836.000000</td>\n",
       "      <td>264836.000000</td>\n",
       "    </tr>\n",
       "    <tr>\n",
       "      <th>mean</th>\n",
       "      <td>43464.036260</td>\n",
       "      <td>135.08011</td>\n",
       "      <td>1.355495e+05</td>\n",
       "      <td>1.351583e+05</td>\n",
       "      <td>56.583157</td>\n",
       "      <td>1.907309</td>\n",
       "      <td>7.304200</td>\n",
       "    </tr>\n",
       "    <tr>\n",
       "      <th>std</th>\n",
       "      <td>105.389282</td>\n",
       "      <td>76.78418</td>\n",
       "      <td>8.057998e+04</td>\n",
       "      <td>7.813303e+04</td>\n",
       "      <td>32.826638</td>\n",
       "      <td>0.643654</td>\n",
       "      <td>3.083226</td>\n",
       "    </tr>\n",
       "    <tr>\n",
       "      <th>min</th>\n",
       "      <td>43282.000000</td>\n",
       "      <td>1.00000</td>\n",
       "      <td>1.000000e+03</td>\n",
       "      <td>1.000000e+00</td>\n",
       "      <td>1.000000</td>\n",
       "      <td>1.000000</td>\n",
       "      <td>1.500000</td>\n",
       "    </tr>\n",
       "    <tr>\n",
       "      <th>25%</th>\n",
       "      <td>43373.000000</td>\n",
       "      <td>70.00000</td>\n",
       "      <td>7.002100e+04</td>\n",
       "      <td>6.760150e+04</td>\n",
       "      <td>28.000000</td>\n",
       "      <td>2.000000</td>\n",
       "      <td>5.400000</td>\n",
       "    </tr>\n",
       "    <tr>\n",
       "      <th>50%</th>\n",
       "      <td>43464.000000</td>\n",
       "      <td>130.00000</td>\n",
       "      <td>1.303575e+05</td>\n",
       "      <td>1.351375e+05</td>\n",
       "      <td>56.000000</td>\n",
       "      <td>2.000000</td>\n",
       "      <td>7.400000</td>\n",
       "    </tr>\n",
       "    <tr>\n",
       "      <th>75%</th>\n",
       "      <td>43555.000000</td>\n",
       "      <td>203.00000</td>\n",
       "      <td>2.030942e+05</td>\n",
       "      <td>2.027012e+05</td>\n",
       "      <td>85.000000</td>\n",
       "      <td>2.000000</td>\n",
       "      <td>9.200000</td>\n",
       "    </tr>\n",
       "    <tr>\n",
       "      <th>max</th>\n",
       "      <td>43646.000000</td>\n",
       "      <td>272.00000</td>\n",
       "      <td>2.373711e+06</td>\n",
       "      <td>2.415841e+06</td>\n",
       "      <td>114.000000</td>\n",
       "      <td>200.000000</td>\n",
       "      <td>650.000000</td>\n",
       "    </tr>\n",
       "  </tbody>\n",
       "</table>\n",
       "</div>"
      ],
      "text/plain": [
       "                DATE     STORE_NBR  LYLTY_CARD_NBR        TXN_ID  \\\n",
       "count  264836.000000  264836.00000    2.648360e+05  2.648360e+05   \n",
       "mean    43464.036260     135.08011    1.355495e+05  1.351583e+05   \n",
       "std       105.389282      76.78418    8.057998e+04  7.813303e+04   \n",
       "min     43282.000000       1.00000    1.000000e+03  1.000000e+00   \n",
       "25%     43373.000000      70.00000    7.002100e+04  6.760150e+04   \n",
       "50%     43464.000000     130.00000    1.303575e+05  1.351375e+05   \n",
       "75%     43555.000000     203.00000    2.030942e+05  2.027012e+05   \n",
       "max     43646.000000     272.00000    2.373711e+06  2.415841e+06   \n",
       "\n",
       "            PROD_NBR       PROD_QTY      TOT_SALES  \n",
       "count  264836.000000  264836.000000  264836.000000  \n",
       "mean       56.583157       1.907309       7.304200  \n",
       "std        32.826638       0.643654       3.083226  \n",
       "min         1.000000       1.000000       1.500000  \n",
       "25%        28.000000       2.000000       5.400000  \n",
       "50%        56.000000       2.000000       7.400000  \n",
       "75%        85.000000       2.000000       9.200000  \n",
       "max       114.000000     200.000000     650.000000  "
      ]
     },
     "execution_count": 502,
     "metadata": {},
     "output_type": "execute_result"
    }
   ],
   "source": [
    "trans_df.info()\n",
    "trans_df.describe()"
   ]
  },
  {
   "cell_type": "code",
   "execution_count": 503,
   "id": "65f243fc-70e6-4f88-87c3-33517754eee8",
   "metadata": {},
   "outputs": [
    {
     "data": {
      "text/plain": [
       "DATE              0\n",
       "STORE_NBR         0\n",
       "LYLTY_CARD_NBR    0\n",
       "TXN_ID            0\n",
       "PROD_NBR          0\n",
       "PROD_NAME         0\n",
       "PROD_QTY          0\n",
       "TOT_SALES         0\n",
       "dtype: int64"
      ]
     },
     "execution_count": 503,
     "metadata": {},
     "output_type": "execute_result"
    }
   ],
   "source": [
    "## To check for missing data \n",
    "\n",
    "trans_df.isnull().sum()\n"
   ]
  },
  {
   "cell_type": "code",
   "execution_count": 504,
   "id": "31dc2b96-dd44-4bd9-8b6e-89b94a09b794",
   "metadata": {},
   "outputs": [
    {
     "data": {
      "image/png": "[encoded data removed]",
      "text/plain": [
       "<Figure size 640x480 with 1 Axes>"
      ]
     },
     "metadata": {},
     "output_type": "display_data"
    }
   ],
   "source": [
    "## To check for outliers\n",
    "\n",
    "sns.boxplot(data = trans_df)\n",
    "plt.show()\n",
    "\n",
    "## There are outliers in the 'LYLTY_CARD_NBR' and 'TXN_ID' columns\n",
    "## Outliers do not affect the data, so we can leave them as they are"
   ]
  },
  {
   "cell_type": "raw",
   "id": "54672d67-3004-49ad-9df2-139039338ffd",
   "metadata": {},
   "source": [
    "There are outliers in the 'LYLTY_CARD_NBR' and 'TXN_ID' columns\n",
    "Outliers do not affect the data, so we can leave them as they are"
   ]
  },
  {
   "cell_type": "code",
   "execution_count": 505,
   "id": "d05ab7f3-1f61-40e9-a0e1-00c70753a8a3",
   "metadata": {},
   "outputs": [
    {
     "data": {
      "text/html": [
       "<div>\n",
       "<style scoped>\n",
       "    .dataframe tbody tr th:only-of-type {\n",
       "        vertical-align: middle;\n",
       "    }\n",
       "\n",
       "    .dataframe tbody tr th {\n",
       "        vertical-align: top;\n",
       "    }\n",
       "\n",
       "    .dataframe thead th {\n",
       "        text-align: right;\n",
       "    }\n",
       "</style>\n",
       "<table border=\"1\" class=\"dataframe\">\n",
       "  <thead>\n",
       "    <tr style=\"text-align: right;\">\n",
       "      <th></th>\n",
       "      <th>DATE</th>\n",
       "      <th>STORE_NBR</th>\n",
       "      <th>LYLTY_CARD_NBR</th>\n",
       "      <th>TXN_ID</th>\n",
       "      <th>PROD_NBR</th>\n",
       "      <th>PROD_NAME</th>\n",
       "      <th>PROD_QTY</th>\n",
       "      <th>TOT_SALES</th>\n",
       "    </tr>\n",
       "  </thead>\n",
       "  <tbody>\n",
       "    <tr>\n",
       "      <th>69762</th>\n",
       "      <td>43331</td>\n",
       "      <td>226</td>\n",
       "      <td>226000</td>\n",
       "      <td>226201</td>\n",
       "      <td>4</td>\n",
       "      <td>Dorito Corn Chp     Supreme 380g</td>\n",
       "      <td>200</td>\n",
       "      <td>650.0</td>\n",
       "    </tr>\n",
       "    <tr>\n",
       "      <th>69763</th>\n",
       "      <td>43605</td>\n",
       "      <td>226</td>\n",
       "      <td>226000</td>\n",
       "      <td>226210</td>\n",
       "      <td>4</td>\n",
       "      <td>Dorito Corn Chp     Supreme 380g</td>\n",
       "      <td>200</td>\n",
       "      <td>650.0</td>\n",
       "    </tr>\n",
       "    <tr>\n",
       "      <th>217237</th>\n",
       "      <td>43603</td>\n",
       "      <td>201</td>\n",
       "      <td>201060</td>\n",
       "      <td>200202</td>\n",
       "      <td>26</td>\n",
       "      <td>Pringles Sweet&amp;Spcy BBQ 134g</td>\n",
       "      <td>5</td>\n",
       "      <td>18.5</td>\n",
       "    </tr>\n",
       "    <tr>\n",
       "      <th>238333</th>\n",
       "      <td>43326</td>\n",
       "      <td>219</td>\n",
       "      <td>219004</td>\n",
       "      <td>218018</td>\n",
       "      <td>25</td>\n",
       "      <td>Pringles SourCream  Onion 134g</td>\n",
       "      <td>5</td>\n",
       "      <td>18.5</td>\n",
       "    </tr>\n",
       "    <tr>\n",
       "      <th>238471</th>\n",
       "      <td>43604</td>\n",
       "      <td>261</td>\n",
       "      <td>261331</td>\n",
       "      <td>261111</td>\n",
       "      <td>87</td>\n",
       "      <td>Infuzions BBQ Rib   Prawn Crackers 110g</td>\n",
       "      <td>5</td>\n",
       "      <td>19.0</td>\n",
       "    </tr>\n",
       "    <tr>\n",
       "      <th>228749</th>\n",
       "      <td>43604</td>\n",
       "      <td>232</td>\n",
       "      <td>232138</td>\n",
       "      <td>235978</td>\n",
       "      <td>109</td>\n",
       "      <td>Pringles Barbeque   134g</td>\n",
       "      <td>5</td>\n",
       "      <td>18.5</td>\n",
       "    </tr>\n",
       "    <tr>\n",
       "      <th>117802</th>\n",
       "      <td>43604</td>\n",
       "      <td>176</td>\n",
       "      <td>176471</td>\n",
       "      <td>177469</td>\n",
       "      <td>17</td>\n",
       "      <td>Kettle Sensations   BBQ&amp;Maple 150g</td>\n",
       "      <td>5</td>\n",
       "      <td>23.0</td>\n",
       "    </tr>\n",
       "    <tr>\n",
       "      <th>228711</th>\n",
       "      <td>43329</td>\n",
       "      <td>205</td>\n",
       "      <td>205149</td>\n",
       "      <td>204215</td>\n",
       "      <td>1</td>\n",
       "      <td>Smiths Crinkle Cut  Chips Barbecue 170g</td>\n",
       "      <td>5</td>\n",
       "      <td>14.5</td>\n",
       "    </tr>\n",
       "    <tr>\n",
       "      <th>238397</th>\n",
       "      <td>43603</td>\n",
       "      <td>238</td>\n",
       "      <td>238337</td>\n",
       "      <td>243243</td>\n",
       "      <td>28</td>\n",
       "      <td>Thins Potato Chips  Hot &amp; Spicy 175g</td>\n",
       "      <td>5</td>\n",
       "      <td>16.5</td>\n",
       "    </tr>\n",
       "    <tr>\n",
       "      <th>238395</th>\n",
       "      <td>43604</td>\n",
       "      <td>238</td>\n",
       "      <td>238250</td>\n",
       "      <td>242874</td>\n",
       "      <td>88</td>\n",
       "      <td>Kettle Honey Soy    Chicken 175g</td>\n",
       "      <td>5</td>\n",
       "      <td>27.0</td>\n",
       "    </tr>\n",
       "  </tbody>\n",
       "</table>\n",
       "</div>"
      ],
      "text/plain": [
       "         DATE  STORE_NBR  LYLTY_CARD_NBR  TXN_ID  PROD_NBR  \\\n",
       "69762   43331        226          226000  226201         4   \n",
       "69763   43605        226          226000  226210         4   \n",
       "217237  43603        201          201060  200202        26   \n",
       "238333  43326        219          219004  218018        25   \n",
       "238471  43604        261          261331  261111        87   \n",
       "228749  43604        232          232138  235978       109   \n",
       "117802  43604        176          176471  177469        17   \n",
       "228711  43329        205          205149  204215         1   \n",
       "238397  43603        238          238337  243243        28   \n",
       "238395  43604        238          238250  242874        88   \n",
       "\n",
       "                                      PROD_NAME  PROD_QTY  TOT_SALES  \n",
       "69762          Dorito Corn Chp     Supreme 380g       200      650.0  \n",
       "69763          Dorito Corn Chp     Supreme 380g       200      650.0  \n",
       "217237             Pringles Sweet&Spcy BBQ 134g         5       18.5  \n",
       "238333           Pringles SourCream  Onion 134g         5       18.5  \n",
       "238471  Infuzions BBQ Rib   Prawn Crackers 110g         5       19.0  \n",
       "228749                 Pringles Barbeque   134g         5       18.5  \n",
       "117802       Kettle Sensations   BBQ&Maple 150g         5       23.0  \n",
       "228711  Smiths Crinkle Cut  Chips Barbecue 170g         5       14.5  \n",
       "238397     Thins Potato Chips  Hot & Spicy 175g         5       16.5  \n",
       "238395         Kettle Honey Soy    Chicken 175g         5       27.0  "
      ]
     },
     "execution_count": 505,
     "metadata": {},
     "output_type": "execute_result"
    }
   ],
   "source": [
    "## Outliers in 'PROD_QTY' column\n",
    "trans_df.sort_values(by = 'PROD_QTY', ascending = False).head(10)"
   ]
  },
  {
   "cell_type": "raw",
   "id": "db5adafa-48f4-4703-86de-5ac705499699",
   "metadata": {},
   "source": [
    "There are 2 outliers in the 'PROD_QTY' column (=200), we could drop them as the next largest value is 5"
   ]
  },
  {
   "cell_type": "code",
   "execution_count": 506,
   "id": "81f509cc-9972-4040-b984-71a443b25974",
   "metadata": {},
   "outputs": [
    {
     "data": {
      "text/html": [
       "<div>\n",
       "<style scoped>\n",
       "    .dataframe tbody tr th:only-of-type {\n",
       "        vertical-align: middle;\n",
       "    }\n",
       "\n",
       "    .dataframe tbody tr th {\n",
       "        vertical-align: top;\n",
       "    }\n",
       "\n",
       "    .dataframe thead th {\n",
       "        text-align: right;\n",
       "    }\n",
       "</style>\n",
       "<table border=\"1\" class=\"dataframe\">\n",
       "  <thead>\n",
       "    <tr style=\"text-align: right;\">\n",
       "      <th></th>\n",
       "      <th>DATE</th>\n",
       "      <th>STORE_NBR</th>\n",
       "      <th>LYLTY_CARD_NBR</th>\n",
       "      <th>TXN_ID</th>\n",
       "      <th>PROD_NBR</th>\n",
       "      <th>PROD_NAME</th>\n",
       "      <th>PROD_QTY</th>\n",
       "      <th>TOT_SALES</th>\n",
       "    </tr>\n",
       "  </thead>\n",
       "  <tbody>\n",
       "    <tr>\n",
       "      <th>69762</th>\n",
       "      <td>43331</td>\n",
       "      <td>226</td>\n",
       "      <td>226000</td>\n",
       "      <td>226201</td>\n",
       "      <td>4</td>\n",
       "      <td>Dorito Corn Chp     Supreme 380g</td>\n",
       "      <td>200</td>\n",
       "      <td>650.0</td>\n",
       "    </tr>\n",
       "    <tr>\n",
       "      <th>69763</th>\n",
       "      <td>43605</td>\n",
       "      <td>226</td>\n",
       "      <td>226000</td>\n",
       "      <td>226210</td>\n",
       "      <td>4</td>\n",
       "      <td>Dorito Corn Chp     Supreme 380g</td>\n",
       "      <td>200</td>\n",
       "      <td>650.0</td>\n",
       "    </tr>\n",
       "  </tbody>\n",
       "</table>\n",
       "</div>"
      ],
      "text/plain": [
       "        DATE  STORE_NBR  LYLTY_CARD_NBR  TXN_ID  PROD_NBR  \\\n",
       "69762  43331        226          226000  226201         4   \n",
       "69763  43605        226          226000  226210         4   \n",
       "\n",
       "                              PROD_NAME  PROD_QTY  TOT_SALES  \n",
       "69762  Dorito Corn Chp     Supreme 380g       200      650.0  \n",
       "69763  Dorito Corn Chp     Supreme 380g       200      650.0  "
      ]
     },
     "execution_count": 506,
     "metadata": {},
     "output_type": "execute_result"
    }
   ],
   "source": [
    "# Filter the entries by the customer\n",
    "\n",
    "trans_df.loc[trans_df['LYLTY_CARD_NBR'] == 226000]"
   ]
  },
  {
   "cell_type": "raw",
   "id": "4a7d4d99-d69d-4b92-8921-e935e4663955",
   "metadata": {},
   "source": [
    "This is the only purchases they have made"
   ]
  },
  {
   "cell_type": "code",
   "execution_count": 507,
   "id": "252be52a-2bf6-41c9-8150-0b2433ffa1c8",
   "metadata": {},
   "outputs": [],
   "source": [
    "## Drop rows where 'PROD_QTY' == 200\n",
    "\n",
    "trans_df.drop(trans_df[trans_df['PROD_QTY'] == 200].index, axis = 0, inplace = True)\n"
   ]
  },
  {
   "cell_type": "raw",
   "id": "76133006-0df4-4835-a9fe-64f310cacefc",
   "metadata": {},
   "source": [
    "Dropping these outliers scan allow us to get more accurate analysis results"
   ]
  },
  {
   "cell_type": "code",
   "execution_count": 508,
   "id": "d5d636d8-3b5d-4457-9950-1b6bba49664f",
   "metadata": {},
   "outputs": [
    {
     "data": {
      "text/html": [
       "<div>\n",
       "<style scoped>\n",
       "    .dataframe tbody tr th:only-of-type {\n",
       "        vertical-align: middle;\n",
       "    }\n",
       "\n",
       "    .dataframe tbody tr th {\n",
       "        vertical-align: top;\n",
       "    }\n",
       "\n",
       "    .dataframe thead th {\n",
       "        text-align: right;\n",
       "    }\n",
       "</style>\n",
       "<table border=\"1\" class=\"dataframe\">\n",
       "  <thead>\n",
       "    <tr style=\"text-align: right;\">\n",
       "      <th></th>\n",
       "      <th>DATE</th>\n",
       "      <th>STORE_NBR</th>\n",
       "      <th>LYLTY_CARD_NBR</th>\n",
       "      <th>TXN_ID</th>\n",
       "      <th>PROD_NBR</th>\n",
       "      <th>PROD_NAME</th>\n",
       "      <th>PROD_QTY</th>\n",
       "      <th>TOT_SALES</th>\n",
       "    </tr>\n",
       "  </thead>\n",
       "  <tbody>\n",
       "  </tbody>\n",
       "</table>\n",
       "</div>"
      ],
      "text/plain": [
       "Empty DataFrame\n",
       "Columns: [DATE, STORE_NBR, LYLTY_CARD_NBR, TXN_ID, PROD_NBR, PROD_NAME, PROD_QTY, TOT_SALES]\n",
       "Index: []"
      ]
     },
     "execution_count": 508,
     "metadata": {},
     "output_type": "execute_result"
    }
   ],
   "source": [
    "## Check for negative values in the 'PROD_QTY' column\n",
    "\n",
    "trans_df.loc[trans_df['PROD_QTY']< 0]"
   ]
  },
  {
   "cell_type": "code",
   "execution_count": 509,
   "id": "0335c561-dc4e-4ae8-a84a-635802afa9a9",
   "metadata": {},
   "outputs": [
    {
     "data": {
      "text/plain": [
       "DATE              datetime64[ns]\n",
       "STORE_NBR                  int64\n",
       "LYLTY_CARD_NBR             int64\n",
       "TXN_ID                     int64\n",
       "PROD_NBR                   int64\n",
       "PROD_NAME                 object\n",
       "PROD_QTY                   int64\n",
       "TOT_SALES                float64\n",
       "dtype: object"
      ]
     },
     "execution_count": 509,
     "metadata": {},
     "output_type": "execute_result"
    }
   ],
   "source": [
    "## To check for wrong data types \n",
    "\n",
    "trans_df.dtypes"
   ]
  },
  {
   "cell_type": "code",
   "execution_count": null,
   "id": "6b825feb-456c-43de-a886-d12452761635",
   "metadata": {},
   "outputs": [],
   "source": [
    "## 'DATE' columns is in object format, converting it to datetime\n",
    "\n",
    "trans_df['DATE'] = pd.to_datetime(trans_df['DATE'], unit='D', origin='1899-12-30')"
   ]
  },
  {
   "cell_type": "code",
   "execution_count": 511,
   "id": "1a4ead4e-be6c-4778-beb5-7979e632b44f",
   "metadata": {},
   "outputs": [
    {
     "name": "stdout",
     "output_type": "stream",
     "text": [
      "Total Distinct Porducts: 114\n"
     ]
    }
   ],
   "source": [
    "## View all unique entries in the product name column \n",
    "\n",
    "unique_products = trans_df['PROD_NAME'].unique()\n",
    "print(\"Total Distinct Porducts:\", len(trans_df['PROD_NAME'].unique()))"
   ]
  },
  {
   "cell_type": "code",
   "execution_count": 512,
   "id": "547337fd-13c7-4f6e-a77a-09ec653b49e9",
   "metadata": {},
   "outputs": [
    {
     "data": {
      "text/plain": [
       "array(['Burger Rings 220g', 'CCs Nacho Cheese    175g',\n",
       "       'CCs Original 175g', 'CCs Tasty Cheese    175g',\n",
       "       'Cheetos Chs & Bacon Balls 190g', 'Cheetos Puffs 165g',\n",
       "       'Cheezels Cheese 330g', 'Cheezels Cheese Box 125g',\n",
       "       'Cobs Popd Sea Salt  Chips 110g',\n",
       "       'Cobs Popd Sour Crm  &Chives Chips 110g',\n",
       "       'Cobs Popd Swt/Chlli &Sr/Cream Chips 110g',\n",
       "       'Dorito Corn Chp     Supreme 380g',\n",
       "       'Doritos Cheese      Supreme 330g',\n",
       "       'Doritos Corn Chip Mexican Jalapeno 150g',\n",
       "       'Doritos Corn Chip Southern Chicken 150g',\n",
       "       'Doritos Corn Chips  Cheese Supreme 170g',\n",
       "       'Doritos Corn Chips  Nacho Cheese 170g',\n",
       "       'Doritos Corn Chips  Original 170g', 'Doritos Mexicana    170g',\n",
       "       'Doritos Salsa       Medium 300g', 'Doritos Salsa Mild  300g',\n",
       "       'French Fries Potato Chips 175g',\n",
       "       'Grain Waves         Sweet Chilli 210g',\n",
       "       'Grain Waves Sour    Cream&Chives 210G',\n",
       "       'GrnWves Plus Btroot & Chilli Jam 180g',\n",
       "       'Infuzions BBQ Rib   Prawn Crackers 110g',\n",
       "       'Infuzions Mango     Chutny Papadums 70g',\n",
       "       'Infuzions SourCream&Herbs Veg Strws 110g',\n",
       "       'Infuzions Thai SweetChili PotatoMix 110g',\n",
       "       'Infzns Crn Crnchers Tangy Gcamole 110g',\n",
       "       'Kettle 135g Swt Pot Sea Salt', 'Kettle Chilli 175g',\n",
       "       'Kettle Honey Soy    Chicken 175g',\n",
       "       'Kettle Mozzarella   Basil & Pesto 175g', 'Kettle Original 175g',\n",
       "       'Kettle Sea Salt     And Vinegar 175g',\n",
       "       'Kettle Sensations   BBQ&Maple 150g',\n",
       "       'Kettle Sensations   Camembert & Fig 150g',\n",
       "       'Kettle Sensations   Siracha Lime 150g',\n",
       "       'Kettle Sweet Chilli And Sour Cream 175g',\n",
       "       'Kettle Tortilla ChpsBtroot&Ricotta 150g',\n",
       "       'Kettle Tortilla ChpsFeta&Garlic 150g',\n",
       "       'Kettle Tortilla ChpsHny&Jlpno Chili 150g',\n",
       "       'NCC Sour Cream &    Garden Chives 175g',\n",
       "       'Natural Chip        Compny SeaSalt175g',\n",
       "       'Natural Chip Co     Tmato Hrb&Spce 175g',\n",
       "       'Natural ChipCo      Hony Soy Chckn175g',\n",
       "       'Natural ChipCo Sea  Salt & Vinegr 175g',\n",
       "       'Old El Paso Salsa   Dip Chnky Tom Ht300g',\n",
       "       'Old El Paso Salsa   Dip Tomato Med 300g',\n",
       "       'Old El Paso Salsa   Dip Tomato Mild 300g',\n",
       "       'Pringles Barbeque   134g', 'Pringles Chicken    Salt Crips 134g',\n",
       "       'Pringles Mystery    Flavour 134g',\n",
       "       'Pringles Original   Crisps 134g', 'Pringles Slt Vingar 134g',\n",
       "       'Pringles SourCream  Onion 134g',\n",
       "       'Pringles Sthrn FriedChicken 134g', 'Pringles Sweet&Spcy BBQ 134g',\n",
       "       'RRD Chilli&         Coconut 150g',\n",
       "       'RRD Honey Soy       Chicken 165g', 'RRD Lime & Pepper   165g',\n",
       "       'RRD Pc Sea Salt     165g', 'RRD SR Slow Rst     Pork Belly 150g',\n",
       "       'RRD Salt & Vinegar  165g', 'RRD Steak &         Chimuchurri 150g',\n",
       "       'RRD Sweet Chilli &  Sour Cream 165g',\n",
       "       'Red Rock Deli Chikn&Garlic Aioli 150g',\n",
       "       'Red Rock Deli SR    Salsa & Mzzrlla 150g',\n",
       "       'Red Rock Deli Sp    Salt & Truffle 150G',\n",
       "       'Red Rock Deli Thai  Chilli&Lime 150g',\n",
       "       'Smith Crinkle Cut   Bolognese 150g',\n",
       "       'Smith Crinkle Cut   Mac N Cheese 150g',\n",
       "       'Smiths Chip Thinly  Cut Original 175g',\n",
       "       'Smiths Chip Thinly  CutSalt/Vinegr175g',\n",
       "       'Smiths Chip Thinly  S/Cream&Onion 175g',\n",
       "       'Smiths Crinkle      Original 330g',\n",
       "       'Smiths Crinkle Chips Salt & Vinegar 330g',\n",
       "       'Smiths Crinkle Cut  Chips Barbecue 170g',\n",
       "       'Smiths Crinkle Cut  Chips Chicken 170g',\n",
       "       'Smiths Crinkle Cut  Chips Chs&Onion170g',\n",
       "       'Smiths Crinkle Cut  Chips Original 170g',\n",
       "       'Smiths Crinkle Cut  French OnionDip 150g',\n",
       "       'Smiths Crinkle Cut  Salt & Vinegar 170g',\n",
       "       'Smiths Crinkle Cut  Snag&Sauce 150g',\n",
       "       'Smiths Crinkle Cut  Tomato Salsa 150g',\n",
       "       'Smiths Crnkle Chip  Orgnl Big Bag 380g',\n",
       "       'Smiths Thinly       Swt Chli&S/Cream175G',\n",
       "       'Smiths Thinly Cut   Roast Chicken 175g',\n",
       "       'Snbts Whlgrn Crisps Cheddr&Mstrd 90g',\n",
       "       'Sunbites Whlegrn    Crisps Frch/Onin 90g',\n",
       "       'Thins Chips         Originl saltd 175g',\n",
       "       'Thins Chips Light&  Tangy 175g',\n",
       "       'Thins Chips Salt &  Vinegar 175g',\n",
       "       'Thins Chips Seasonedchicken 175g',\n",
       "       'Thins Potato Chips  Hot & Spicy 175g',\n",
       "       'Tostitos Lightly    Salted 175g',\n",
       "       'Tostitos Smoked     Chipotle 175g',\n",
       "       'Tostitos Splash Of  Lime 175g', 'Twisties Cheese     270g',\n",
       "       'Twisties Cheese     Burger 250g', 'Twisties Chicken270g',\n",
       "       'Tyrrells Crisps     Ched & Chives 165g',\n",
       "       'Tyrrells Crisps     Lightly Salted 165g',\n",
       "       'WW Crinkle Cut      Chicken 175g',\n",
       "       'WW Crinkle Cut      Original 175g',\n",
       "       'WW D/Style Chip     Sea Salt 200g',\n",
       "       'WW Original Corn    Chips 200g', 'WW Original Stacked Chips 160g',\n",
       "       'WW Sour Cream &OnionStacked Chips 160g',\n",
       "       'WW Supreme Cheese   Corn Chips 200g',\n",
       "       'Woolworths Cheese   Rings 190g', 'Woolworths Medium   Salsa 300g',\n",
       "       'Woolworths Mild     Salsa 300g'], dtype=object)"
      ]
     },
     "execution_count": 512,
     "metadata": {},
     "output_type": "execute_result"
    }
   ],
   "source": [
    "unique_products.sort()\n",
    "unique_products"
   ]
  },
  {
   "cell_type": "code",
   "execution_count": 513,
   "id": "dfba7e45-491f-421d-a42f-b8d28a364d25",
   "metadata": {},
   "outputs": [],
   "source": [
    "## Seperating the size of the packing and the product name into seperate columns for easier segmentation\n",
    "\n",
    "# Extract weights to new column (captures the number + 'g/G')\n",
    "\n",
    "trans_df['PROD_SIZE'] = trans_df['PROD_NAME'].str.extract(r'(\\d+[gG])', expand=False)\n",
    "\n",
    "trans_df['PROD_NAME_CLEAN'] = trans_df['PROD_NAME'].str.replace(r'\\d+[gG]', '', regex=True)\n",
    "\n",
    "## Removing white spaces\n",
    "\n",
    "trans_df['PROD_NAME_CLEAN'] = trans_df['PROD_NAME_CLEAN'].str.strip()"
   ]
  },
  {
   "cell_type": "code",
   "execution_count": 514,
   "id": "45546862-8215-483a-ba04-acbbc749a213",
   "metadata": {},
   "outputs": [
    {
     "data": {
      "text/html": [
       "<div>\n",
       "<style scoped>\n",
       "    .dataframe tbody tr th:only-of-type {\n",
       "        vertical-align: middle;\n",
       "    }\n",
       "\n",
       "    .dataframe tbody tr th {\n",
       "        vertical-align: top;\n",
       "    }\n",
       "\n",
       "    .dataframe thead th {\n",
       "        text-align: right;\n",
       "    }\n",
       "</style>\n",
       "<table border=\"1\" class=\"dataframe\">\n",
       "  <thead>\n",
       "    <tr style=\"text-align: right;\">\n",
       "      <th></th>\n",
       "      <th>DATE</th>\n",
       "      <th>STORE_NBR</th>\n",
       "      <th>LYLTY_CARD_NBR</th>\n",
       "      <th>TXN_ID</th>\n",
       "      <th>PROD_NBR</th>\n",
       "      <th>PROD_NAME</th>\n",
       "      <th>PROD_QTY</th>\n",
       "      <th>TOT_SALES</th>\n",
       "      <th>PROD_SIZE</th>\n",
       "      <th>PROD_NAME_CLEAN</th>\n",
       "    </tr>\n",
       "  </thead>\n",
       "  <tbody>\n",
       "    <tr>\n",
       "      <th>0</th>\n",
       "      <td>2018-10-17</td>\n",
       "      <td>1</td>\n",
       "      <td>1000</td>\n",
       "      <td>1</td>\n",
       "      <td>5</td>\n",
       "      <td>Natural Chip        Compny SeaSalt175g</td>\n",
       "      <td>2</td>\n",
       "      <td>6.0</td>\n",
       "      <td>175g</td>\n",
       "      <td>Natural Chip        Compny SeaSalt</td>\n",
       "    </tr>\n",
       "    <tr>\n",
       "      <th>1</th>\n",
       "      <td>2019-05-14</td>\n",
       "      <td>1</td>\n",
       "      <td>1307</td>\n",
       "      <td>348</td>\n",
       "      <td>66</td>\n",
       "      <td>CCs Nacho Cheese    175g</td>\n",
       "      <td>3</td>\n",
       "      <td>6.3</td>\n",
       "      <td>175g</td>\n",
       "      <td>CCs Nacho Cheese</td>\n",
       "    </tr>\n",
       "    <tr>\n",
       "      <th>2</th>\n",
       "      <td>2019-05-20</td>\n",
       "      <td>1</td>\n",
       "      <td>1343</td>\n",
       "      <td>383</td>\n",
       "      <td>61</td>\n",
       "      <td>Smiths Crinkle Cut  Chips Chicken 170g</td>\n",
       "      <td>2</td>\n",
       "      <td>2.9</td>\n",
       "      <td>170g</td>\n",
       "      <td>Smiths Crinkle Cut  Chips Chicken</td>\n",
       "    </tr>\n",
       "    <tr>\n",
       "      <th>3</th>\n",
       "      <td>2018-08-17</td>\n",
       "      <td>2</td>\n",
       "      <td>2373</td>\n",
       "      <td>974</td>\n",
       "      <td>69</td>\n",
       "      <td>Smiths Chip Thinly  S/Cream&amp;Onion 175g</td>\n",
       "      <td>5</td>\n",
       "      <td>15.0</td>\n",
       "      <td>175g</td>\n",
       "      <td>Smiths Chip Thinly  S/Cream&amp;Onion</td>\n",
       "    </tr>\n",
       "    <tr>\n",
       "      <th>4</th>\n",
       "      <td>2018-08-18</td>\n",
       "      <td>2</td>\n",
       "      <td>2426</td>\n",
       "      <td>1038</td>\n",
       "      <td>108</td>\n",
       "      <td>Kettle Tortilla ChpsHny&amp;Jlpno Chili 150g</td>\n",
       "      <td>3</td>\n",
       "      <td>13.8</td>\n",
       "      <td>150g</td>\n",
       "      <td>Kettle Tortilla ChpsHny&amp;Jlpno Chili</td>\n",
       "    </tr>\n",
       "  </tbody>\n",
       "</table>\n",
       "</div>"
      ],
      "text/plain": [
       "        DATE  STORE_NBR  LYLTY_CARD_NBR  TXN_ID  PROD_NBR  \\\n",
       "0 2018-10-17          1            1000       1         5   \n",
       "1 2019-05-14          1            1307     348        66   \n",
       "2 2019-05-20          1            1343     383        61   \n",
       "3 2018-08-17          2            2373     974        69   \n",
       "4 2018-08-18          2            2426    1038       108   \n",
       "\n",
       "                                  PROD_NAME  PROD_QTY  TOT_SALES PROD_SIZE  \\\n",
       "0    Natural Chip        Compny SeaSalt175g         2        6.0      175g   \n",
       "1                  CCs Nacho Cheese    175g         3        6.3      175g   \n",
       "2    Smiths Crinkle Cut  Chips Chicken 170g         2        2.9      170g   \n",
       "3    Smiths Chip Thinly  S/Cream&Onion 175g         5       15.0      175g   \n",
       "4  Kettle Tortilla ChpsHny&Jlpno Chili 150g         3       13.8      150g   \n",
       "\n",
       "                       PROD_NAME_CLEAN  \n",
       "0   Natural Chip        Compny SeaSalt  \n",
       "1                     CCs Nacho Cheese  \n",
       "2    Smiths Crinkle Cut  Chips Chicken  \n",
       "3    Smiths Chip Thinly  S/Cream&Onion  \n",
       "4  Kettle Tortilla ChpsHny&Jlpno Chili  "
      ]
     },
     "execution_count": 514,
     "metadata": {},
     "output_type": "execute_result"
    }
   ],
   "source": [
    "trans_df.head()"
   ]
  },
  {
   "cell_type": "code",
   "execution_count": 515,
   "id": "6e1405d9-7d49-4c63-b6a6-c5e4a23bdbc4",
   "metadata": {},
   "outputs": [
    {
     "data": {
      "text/html": [
       "<div>\n",
       "<style scoped>\n",
       "    .dataframe tbody tr th:only-of-type {\n",
       "        vertical-align: middle;\n",
       "    }\n",
       "\n",
       "    .dataframe tbody tr th {\n",
       "        vertical-align: top;\n",
       "    }\n",
       "\n",
       "    .dataframe thead th {\n",
       "        text-align: right;\n",
       "    }\n",
       "</style>\n",
       "<table border=\"1\" class=\"dataframe\">\n",
       "  <thead>\n",
       "    <tr style=\"text-align: right;\">\n",
       "      <th></th>\n",
       "      <th>DATE</th>\n",
       "      <th>STORE_NBR</th>\n",
       "      <th>LYLTY_CARD_NBR</th>\n",
       "      <th>TXN_ID</th>\n",
       "      <th>PROD_NBR</th>\n",
       "      <th>PROD_NAME_CLEAN</th>\n",
       "      <th>PROD_SIZE</th>\n",
       "      <th>BRAND_NAME</th>\n",
       "      <th>PROD_QTY</th>\n",
       "      <th>TOT_SALES</th>\n",
       "    </tr>\n",
       "  </thead>\n",
       "  <tbody>\n",
       "    <tr>\n",
       "      <th>0</th>\n",
       "      <td>2018-10-17</td>\n",
       "      <td>1</td>\n",
       "      <td>1000</td>\n",
       "      <td>1</td>\n",
       "      <td>5</td>\n",
       "      <td>Natural Chip        Compny SeaSalt</td>\n",
       "      <td>175g</td>\n",
       "      <td>Natural</td>\n",
       "      <td>2</td>\n",
       "      <td>6.0</td>\n",
       "    </tr>\n",
       "    <tr>\n",
       "      <th>1</th>\n",
       "      <td>2019-05-14</td>\n",
       "      <td>1</td>\n",
       "      <td>1307</td>\n",
       "      <td>348</td>\n",
       "      <td>66</td>\n",
       "      <td>CCs Nacho Cheese</td>\n",
       "      <td>175g</td>\n",
       "      <td>CCs</td>\n",
       "      <td>3</td>\n",
       "      <td>6.3</td>\n",
       "    </tr>\n",
       "    <tr>\n",
       "      <th>2</th>\n",
       "      <td>2019-05-20</td>\n",
       "      <td>1</td>\n",
       "      <td>1343</td>\n",
       "      <td>383</td>\n",
       "      <td>61</td>\n",
       "      <td>Smiths Crinkle Cut  Chips Chicken</td>\n",
       "      <td>170g</td>\n",
       "      <td>Smiths</td>\n",
       "      <td>2</td>\n",
       "      <td>2.9</td>\n",
       "    </tr>\n",
       "    <tr>\n",
       "      <th>3</th>\n",
       "      <td>2018-08-17</td>\n",
       "      <td>2</td>\n",
       "      <td>2373</td>\n",
       "      <td>974</td>\n",
       "      <td>69</td>\n",
       "      <td>Smiths Chip Thinly  S/Cream&amp;Onion</td>\n",
       "      <td>175g</td>\n",
       "      <td>Smiths</td>\n",
       "      <td>5</td>\n",
       "      <td>15.0</td>\n",
       "    </tr>\n",
       "    <tr>\n",
       "      <th>4</th>\n",
       "      <td>2018-08-18</td>\n",
       "      <td>2</td>\n",
       "      <td>2426</td>\n",
       "      <td>1038</td>\n",
       "      <td>108</td>\n",
       "      <td>Kettle Tortilla ChpsHny&amp;Jlpno Chili</td>\n",
       "      <td>150g</td>\n",
       "      <td>Kettle</td>\n",
       "      <td>3</td>\n",
       "      <td>13.8</td>\n",
       "    </tr>\n",
       "  </tbody>\n",
       "</table>\n",
       "</div>"
      ],
      "text/plain": [
       "        DATE  STORE_NBR  LYLTY_CARD_NBR  TXN_ID  PROD_NBR  \\\n",
       "0 2018-10-17          1            1000       1         5   \n",
       "1 2019-05-14          1            1307     348        66   \n",
       "2 2019-05-20          1            1343     383        61   \n",
       "3 2018-08-17          2            2373     974        69   \n",
       "4 2018-08-18          2            2426    1038       108   \n",
       "\n",
       "                       PROD_NAME_CLEAN PROD_SIZE BRAND_NAME  PROD_QTY  \\\n",
       "0   Natural Chip        Compny SeaSalt      175g    Natural         2   \n",
       "1                     CCs Nacho Cheese      175g        CCs         3   \n",
       "2    Smiths Crinkle Cut  Chips Chicken      170g     Smiths         2   \n",
       "3    Smiths Chip Thinly  S/Cream&Onion      175g     Smiths         5   \n",
       "4  Kettle Tortilla ChpsHny&Jlpno Chili      150g     Kettle         3   \n",
       "\n",
       "   TOT_SALES  \n",
       "0        6.0  \n",
       "1        6.3  \n",
       "2        2.9  \n",
       "3       15.0  \n",
       "4       13.8  "
      ]
     },
     "execution_count": 515,
     "metadata": {},
     "output_type": "execute_result"
    }
   ],
   "source": [
    "## Dropping the PROD_NAME column\n",
    "\n",
    "trans_df=trans_df.drop(\"PROD_NAME\", axis=1) \n",
    "\n",
    "## Notice that brands are the first words\n",
    "## Extracting the brand names from the product names\n",
    "\n",
    "trans_df[\"BRAND_NAME\"]=trans_df[\"PROD_NAME_CLEAN\"].str.split().str[0]\n",
    "\n",
    "## Rearranging the columns \n",
    "\n",
    "trans_df=trans_df.loc[:, [\"DATE\", \"STORE_NBR\", \"LYLTY_CARD_NBR\", \"TXN_ID\", \"PROD_NBR\", \"PROD_NAME_CLEAN\", \"PROD_SIZE\", \"BRAND_NAME\", \"PROD_QTY\", \"TOT_SALES\"]]  \n",
    "trans_df.head()"
   ]
  },
  {
   "cell_type": "raw",
   "id": "d8022516-3602-443d-a17e-259a3e6108ee",
   "metadata": {},
   "source": [
    "Looking through the column of 'PROD_NAME_CLEAN' it appears some items are Salsa and not Chips \n",
    "such as 'Doritos Salsa Medium' and 'Old El Paso Salsa Dip Tomato Mild'\n",
    "\n",
    "Hence we have to remove them "
   ]
  },
  {
   "cell_type": "code",
   "execution_count": 517,
   "id": "8441def0-9f6f-4474-bc9c-8defa86eee58",
   "metadata": {},
   "outputs": [
    {
     "data": {
      "text/html": [
       "<div>\n",
       "<style scoped>\n",
       "    .dataframe tbody tr th:only-of-type {\n",
       "        vertical-align: middle;\n",
       "    }\n",
       "\n",
       "    .dataframe tbody tr th {\n",
       "        vertical-align: top;\n",
       "    }\n",
       "\n",
       "    .dataframe thead th {\n",
       "        text-align: right;\n",
       "    }\n",
       "</style>\n",
       "<table border=\"1\" class=\"dataframe\">\n",
       "  <thead>\n",
       "    <tr style=\"text-align: right;\">\n",
       "      <th></th>\n",
       "      <th>DATE</th>\n",
       "      <th>STORE_NBR</th>\n",
       "      <th>LYLTY_CARD_NBR</th>\n",
       "      <th>TXN_ID</th>\n",
       "      <th>PROD_NBR</th>\n",
       "      <th>PROD_NAME_CLEAN</th>\n",
       "      <th>PROD_SIZE</th>\n",
       "      <th>BRAND_NAME</th>\n",
       "      <th>PROD_QTY</th>\n",
       "      <th>TOT_SALES</th>\n",
       "    </tr>\n",
       "  </thead>\n",
       "  <tbody>\n",
       "    <tr>\n",
       "      <th>5</th>\n",
       "      <td>2019-05-19</td>\n",
       "      <td>4</td>\n",
       "      <td>4074</td>\n",
       "      <td>2982</td>\n",
       "      <td>57</td>\n",
       "      <td>Old El Paso Salsa   Dip Tomato Mild</td>\n",
       "      <td>300g</td>\n",
       "      <td>Old</td>\n",
       "      <td>1</td>\n",
       "      <td>5.1</td>\n",
       "    </tr>\n",
       "    <tr>\n",
       "      <th>25</th>\n",
       "      <td>2019-05-15</td>\n",
       "      <td>39</td>\n",
       "      <td>39144</td>\n",
       "      <td>35506</td>\n",
       "      <td>57</td>\n",
       "      <td>Old El Paso Salsa   Dip Tomato Mild</td>\n",
       "      <td>300g</td>\n",
       "      <td>Old</td>\n",
       "      <td>1</td>\n",
       "      <td>5.1</td>\n",
       "    </tr>\n",
       "    <tr>\n",
       "      <th>32</th>\n",
       "      <td>2019-05-20</td>\n",
       "      <td>45</td>\n",
       "      <td>45127</td>\n",
       "      <td>41122</td>\n",
       "      <td>64</td>\n",
       "      <td>Red Rock Deli SR    Salsa &amp; Mzzrlla</td>\n",
       "      <td>150g</td>\n",
       "      <td>Red</td>\n",
       "      <td>2</td>\n",
       "      <td>5.4</td>\n",
       "    </tr>\n",
       "    <tr>\n",
       "      <th>44</th>\n",
       "      <td>2018-08-18</td>\n",
       "      <td>56</td>\n",
       "      <td>56013</td>\n",
       "      <td>50090</td>\n",
       "      <td>39</td>\n",
       "      <td>Smiths Crinkle Cut  Tomato Salsa</td>\n",
       "      <td>150g</td>\n",
       "      <td>Smiths</td>\n",
       "      <td>1</td>\n",
       "      <td>2.6</td>\n",
       "    </tr>\n",
       "    <tr>\n",
       "      <th>63</th>\n",
       "      <td>2019-05-15</td>\n",
       "      <td>82</td>\n",
       "      <td>82480</td>\n",
       "      <td>82047</td>\n",
       "      <td>101</td>\n",
       "      <td>Doritos Salsa       Medium</td>\n",
       "      <td>300g</td>\n",
       "      <td>Doritos</td>\n",
       "      <td>1</td>\n",
       "      <td>2.6</td>\n",
       "    </tr>\n",
       "  </tbody>\n",
       "</table>\n",
       "</div>"
      ],
      "text/plain": [
       "         DATE  STORE_NBR  LYLTY_CARD_NBR  TXN_ID  PROD_NBR  \\\n",
       "5  2019-05-19          4            4074    2982        57   \n",
       "25 2019-05-15         39           39144   35506        57   \n",
       "32 2019-05-20         45           45127   41122        64   \n",
       "44 2018-08-18         56           56013   50090        39   \n",
       "63 2019-05-15         82           82480   82047       101   \n",
       "\n",
       "                        PROD_NAME_CLEAN PROD_SIZE BRAND_NAME  PROD_QTY  \\\n",
       "5   Old El Paso Salsa   Dip Tomato Mild      300g        Old         1   \n",
       "25  Old El Paso Salsa   Dip Tomato Mild      300g        Old         1   \n",
       "32  Red Rock Deli SR    Salsa & Mzzrlla      150g        Red         2   \n",
       "44     Smiths Crinkle Cut  Tomato Salsa      150g     Smiths         1   \n",
       "63           Doritos Salsa       Medium      300g    Doritos         1   \n",
       "\n",
       "    TOT_SALES  \n",
       "5         5.1  \n",
       "25        5.1  \n",
       "32        5.4  \n",
       "44        2.6  \n",
       "63        2.6  "
      ]
     },
     "execution_count": 517,
     "metadata": {},
     "output_type": "execute_result"
    }
   ],
   "source": [
    "trans_df[trans_df['PROD_NAME_CLEAN'].str.contains(r\"[Ss]alsa\") == True].head()"
   ]
  },
  {
   "cell_type": "code",
   "execution_count": 518,
   "id": "49cec2a3-3165-4658-864e-77c53aa7f762",
   "metadata": {},
   "outputs": [],
   "source": [
    "## Removing Salsa items\n",
    "# Remove salsas from the dataset\n",
    "\n",
    "trans_df = trans_df[trans_df['PROD_NAME_CLEAN'].str.contains(r\"[Ss]alsa\") == False]"
   ]
  },
  {
   "cell_type": "code",
   "execution_count": 519,
   "id": "2fa862d9-26c9-4093-88b2-261738a2e7ec",
   "metadata": {},
   "outputs": [
    {
     "data": {
      "text/plain": [
       "DATE               0\n",
       "STORE_NBR          0\n",
       "LYLTY_CARD_NBR     0\n",
       "TXN_ID             0\n",
       "PROD_NBR           0\n",
       "PROD_NAME_CLEAN    0\n",
       "PROD_SIZE          0\n",
       "BRAND_NAME         0\n",
       "PROD_QTY           0\n",
       "TOT_SALES          0\n",
       "dtype: int64"
      ]
     },
     "execution_count": 519,
     "metadata": {},
     "output_type": "execute_result"
    }
   ],
   "source": [
    "trans_df.isnull().sum()"
   ]
  },
  {
   "cell_type": "code",
   "execution_count": 520,
   "id": "722af1c5-447a-45c2-a8e8-7a5bf02f721a",
   "metadata": {},
   "outputs": [
    {
     "data": {
      "text/plain": [
       "array(['Burger', 'CCs', 'Cheetos', 'Cheezels', 'Cobs', 'Dorito',\n",
       "       'Doritos', 'French', 'Grain', 'GrnWves', 'Infuzions', 'Infzns',\n",
       "       'Kettle', 'NCC', 'Natural', 'Pringles', 'RRD', 'Red', 'Smith',\n",
       "       'Smiths', 'Snbts', 'Sunbites', 'Thins', 'Tostitos', 'Twisties',\n",
       "       'Tyrrells', 'WW', 'Woolworths'], dtype=object)"
      ]
     },
     "execution_count": 520,
     "metadata": {},
     "output_type": "execute_result"
    }
   ],
   "source": [
    "## Notice that some of the brand names are not standardise\n",
    "\n",
    "trans_df['BRAND_NAME'].sort_values().unique()"
   ]
  },
  {
   "cell_type": "code",
   "execution_count": 521,
   "id": "09ee5559-bf6b-41d9-970b-dd6e0dca2f78",
   "metadata": {},
   "outputs": [],
   "source": [
    "## Standardising the brand name\n",
    "\n",
    "def replace_brandname(line):\n",
    "    name = line['BRAND_NAME']\n",
    "    if name == \"Dorito\":\n",
    "        return \"Doritos\"\n",
    "    elif name == \"Grain\":\n",
    "        return \"Grain Waves\"\n",
    "    elif name == \"GrnWves\":\n",
    "        return \"Grain Waves\"\n",
    "    elif name == \"Infzns\":\n",
    "        return \"Infuzions\"\n",
    "    elif name == \"Natural\":\n",
    "        return \"Natural Chip Co\"\n",
    "    elif name == \"NCC\":\n",
    "        return \"Natural Chip Co\"\n",
    "    elif name == \"Red\":\n",
    "        return \"Red Rock Deli\"\n",
    "    elif name == \"RRD\":\n",
    "        return \"Red Rock Deli\"\n",
    "    elif name == \"Smith\":\n",
    "        return \"Smiths\"\n",
    "    elif name == \"Snbts\":\n",
    "        return \"Sunbites\"\n",
    "    elif name == \"WW\":\n",
    "        return \"Woolworths\"\n",
    "    else:\n",
    "        return name \n",
    "\n",
    "trans_df[\"BRAND_NAME\"] = trans_df.apply(lambda line: replace_brandname(line), axis=1)"
   ]
  },
  {
   "cell_type": "code",
   "execution_count": 522,
   "id": "2e191914-76b6-4f17-8308-e3f16b10ee7c",
   "metadata": {},
   "outputs": [
    {
     "data": {
      "text/plain": [
       "array(['Burger', 'CCs', 'Cheetos', 'Cheezels', 'Cobs', 'Doritos',\n",
       "       'French', 'Grain Waves', 'Infuzions', 'Kettle', 'Natural Chip Co',\n",
       "       'Pringles', 'Red Rock Deli', 'Smiths', 'Sunbites', 'Thins',\n",
       "       'Tostitos', 'Twisties', 'Tyrrells', 'Woolworths'], dtype=object)"
      ]
     },
     "execution_count": 522,
     "metadata": {},
     "output_type": "execute_result"
    }
   ],
   "source": [
    "trans_df[\"BRAND_NAME\"].sort_values().unique()"
   ]
  },
  {
   "cell_type": "raw",
   "id": "4f9b6c1d-3812-413f-a950-21c76dfe01fb",
   "metadata": {},
   "source": [
    "Cleaning the customer dataframe"
   ]
  },
  {
   "cell_type": "code",
   "execution_count": 524,
   "id": "1c1ae9ea-06c6-4029-986f-9ab8f8988da1",
   "metadata": {},
   "outputs": [
    {
     "data": {
      "text/html": [
       "<div>\n",
       "<style scoped>\n",
       "    .dataframe tbody tr th:only-of-type {\n",
       "        vertical-align: middle;\n",
       "    }\n",
       "\n",
       "    .dataframe tbody tr th {\n",
       "        vertical-align: top;\n",
       "    }\n",
       "\n",
       "    .dataframe thead th {\n",
       "        text-align: right;\n",
       "    }\n",
       "</style>\n",
       "<table border=\"1\" class=\"dataframe\">\n",
       "  <thead>\n",
       "    <tr style=\"text-align: right;\">\n",
       "      <th></th>\n",
       "      <th>LYLTY_CARD_NBR</th>\n",
       "      <th>LIFESTAGE</th>\n",
       "      <th>PREMIUM_CUSTOMER</th>\n",
       "    </tr>\n",
       "  </thead>\n",
       "  <tbody>\n",
       "    <tr>\n",
       "      <th>0</th>\n",
       "      <td>1000</td>\n",
       "      <td>YOUNG SINGLES/COUPLES</td>\n",
       "      <td>Premium</td>\n",
       "    </tr>\n",
       "    <tr>\n",
       "      <th>1</th>\n",
       "      <td>1002</td>\n",
       "      <td>YOUNG SINGLES/COUPLES</td>\n",
       "      <td>Mainstream</td>\n",
       "    </tr>\n",
       "    <tr>\n",
       "      <th>2</th>\n",
       "      <td>1003</td>\n",
       "      <td>YOUNG FAMILIES</td>\n",
       "      <td>Budget</td>\n",
       "    </tr>\n",
       "    <tr>\n",
       "      <th>3</th>\n",
       "      <td>1004</td>\n",
       "      <td>OLDER SINGLES/COUPLES</td>\n",
       "      <td>Mainstream</td>\n",
       "    </tr>\n",
       "    <tr>\n",
       "      <th>4</th>\n",
       "      <td>1005</td>\n",
       "      <td>MIDAGE SINGLES/COUPLES</td>\n",
       "      <td>Mainstream</td>\n",
       "    </tr>\n",
       "  </tbody>\n",
       "</table>\n",
       "</div>"
      ],
      "text/plain": [
       "   LYLTY_CARD_NBR               LIFESTAGE PREMIUM_CUSTOMER\n",
       "0            1000   YOUNG SINGLES/COUPLES          Premium\n",
       "1            1002   YOUNG SINGLES/COUPLES       Mainstream\n",
       "2            1003          YOUNG FAMILIES           Budget\n",
       "3            1004   OLDER SINGLES/COUPLES       Mainstream\n",
       "4            1005  MIDAGE SINGLES/COUPLES       Mainstream"
      ]
     },
     "execution_count": 524,
     "metadata": {},
     "output_type": "execute_result"
    }
   ],
   "source": [
    "cus_df.head()"
   ]
  },
  {
   "cell_type": "code",
   "execution_count": 525,
   "id": "c80bbed3-2f10-48d4-bb55-157a684a9cdb",
   "metadata": {},
   "outputs": [
    {
     "data": {
      "text/plain": [
       "LYLTY_CARD_NBR       int64\n",
       "LIFESTAGE           object\n",
       "PREMIUM_CUSTOMER    object\n",
       "dtype: object"
      ]
     },
     "execution_count": 525,
     "metadata": {},
     "output_type": "execute_result"
    }
   ],
   "source": [
    "cus_df.dtypes"
   ]
  },
  {
   "cell_type": "code",
   "execution_count": 526,
   "id": "6572a98f-c7ce-456e-9c83-7c4f2a3e5b58",
   "metadata": {},
   "outputs": [
    {
     "data": {
      "text/plain": [
       "LYLTY_CARD_NBR      0\n",
       "LIFESTAGE           0\n",
       "PREMIUM_CUSTOMER    0\n",
       "dtype: int64"
      ]
     },
     "execution_count": 526,
     "metadata": {},
     "output_type": "execute_result"
    }
   ],
   "source": [
    "cus_df.isnull().sum()"
   ]
  },
  {
   "cell_type": "code",
   "execution_count": 527,
   "id": "eff5e17a-778d-4da4-9397-99bd1d9d18fb",
   "metadata": {},
   "outputs": [
    {
     "data": {
      "text/plain": [
       "array(['YOUNG SINGLES/COUPLES', 'YOUNG FAMILIES', 'OLDER SINGLES/COUPLES',\n",
       "       'MIDAGE SINGLES/COUPLES', 'NEW FAMILIES', 'OLDER FAMILIES',\n",
       "       'RETIREES'], dtype=object)"
      ]
     },
     "execution_count": 527,
     "metadata": {},
     "output_type": "execute_result"
    }
   ],
   "source": [
    "cus_df['LIFESTAGE'].unique()"
   ]
  },
  {
   "cell_type": "code",
   "execution_count": 528,
   "id": "7f16f2f5-7fe3-4784-93a8-92eee07e8aa3",
   "metadata": {},
   "outputs": [
    {
     "data": {
      "text/plain": [
       "array(['Premium', 'Mainstream', 'Budget'], dtype=object)"
      ]
     },
     "execution_count": 528,
     "metadata": {},
     "output_type": "execute_result"
    }
   ],
   "source": [
    "cus_df['PREMIUM_CUSTOMER'].unique()"
   ]
  },
  {
   "cell_type": "code",
   "execution_count": 529,
   "id": "ba1a28b8-08e3-42ba-b9e2-7dbe4d9cc9c8",
   "metadata": {},
   "outputs": [],
   "source": [
    "cus_df = cus_df.rename(columns={'PREMIUM_CUSTOMER': 'MEMBER_TYPE'})\n"
   ]
  },
  {
   "cell_type": "raw",
   "id": "39129a33-3b0b-4ccd-a9e8-72715e5a173b",
   "metadata": {},
   "source": [
    "Joining the dataframes"
   ]
  },
  {
   "cell_type": "code",
   "execution_count": 531,
   "id": "c87c49b3-d564-43c3-a7c0-40b8211c54e5",
   "metadata": {},
   "outputs": [],
   "source": [
    "merged_df = pd.merge(trans_df, cus_df, on = \"LYLTY_CARD_NBR\")"
   ]
  },
  {
   "cell_type": "code",
   "execution_count": 532,
   "id": "22bd6fa3-db46-4e57-9245-3db8af177700",
   "metadata": {},
   "outputs": [
    {
     "data": {
      "text/html": [
       "<div>\n",
       "<style scoped>\n",
       "    .dataframe tbody tr th:only-of-type {\n",
       "        vertical-align: middle;\n",
       "    }\n",
       "\n",
       "    .dataframe tbody tr th {\n",
       "        vertical-align: top;\n",
       "    }\n",
       "\n",
       "    .dataframe thead th {\n",
       "        text-align: right;\n",
       "    }\n",
       "</style>\n",
       "<table border=\"1\" class=\"dataframe\">\n",
       "  <thead>\n",
       "    <tr style=\"text-align: right;\">\n",
       "      <th></th>\n",
       "      <th>DATE</th>\n",
       "      <th>STORE_NBR</th>\n",
       "      <th>LYLTY_CARD_NBR</th>\n",
       "      <th>TXN_ID</th>\n",
       "      <th>PROD_NBR</th>\n",
       "      <th>PROD_NAME_CLEAN</th>\n",
       "      <th>PROD_SIZE</th>\n",
       "      <th>BRAND_NAME</th>\n",
       "      <th>PROD_QTY</th>\n",
       "      <th>TOT_SALES</th>\n",
       "      <th>LIFESTAGE</th>\n",
       "      <th>MEMBER_TYPE</th>\n",
       "    </tr>\n",
       "  </thead>\n",
       "  <tbody>\n",
       "    <tr>\n",
       "      <th>0</th>\n",
       "      <td>2018-10-17</td>\n",
       "      <td>1</td>\n",
       "      <td>1000</td>\n",
       "      <td>1</td>\n",
       "      <td>5</td>\n",
       "      <td>Natural Chip        Compny SeaSalt</td>\n",
       "      <td>175g</td>\n",
       "      <td>Natural Chip Co</td>\n",
       "      <td>2</td>\n",
       "      <td>6.0</td>\n",
       "      <td>YOUNG SINGLES/COUPLES</td>\n",
       "      <td>Premium</td>\n",
       "    </tr>\n",
       "    <tr>\n",
       "      <th>1</th>\n",
       "      <td>2019-05-14</td>\n",
       "      <td>1</td>\n",
       "      <td>1307</td>\n",
       "      <td>348</td>\n",
       "      <td>66</td>\n",
       "      <td>CCs Nacho Cheese</td>\n",
       "      <td>175g</td>\n",
       "      <td>CCs</td>\n",
       "      <td>3</td>\n",
       "      <td>6.3</td>\n",
       "      <td>MIDAGE SINGLES/COUPLES</td>\n",
       "      <td>Budget</td>\n",
       "    </tr>\n",
       "    <tr>\n",
       "      <th>2</th>\n",
       "      <td>2018-11-10</td>\n",
       "      <td>1</td>\n",
       "      <td>1307</td>\n",
       "      <td>346</td>\n",
       "      <td>96</td>\n",
       "      <td>WW Original Stacked Chips</td>\n",
       "      <td>160g</td>\n",
       "      <td>Woolworths</td>\n",
       "      <td>2</td>\n",
       "      <td>3.8</td>\n",
       "      <td>MIDAGE SINGLES/COUPLES</td>\n",
       "      <td>Budget</td>\n",
       "    </tr>\n",
       "    <tr>\n",
       "      <th>3</th>\n",
       "      <td>2019-03-09</td>\n",
       "      <td>1</td>\n",
       "      <td>1307</td>\n",
       "      <td>347</td>\n",
       "      <td>54</td>\n",
       "      <td>CCs Original</td>\n",
       "      <td>175g</td>\n",
       "      <td>CCs</td>\n",
       "      <td>1</td>\n",
       "      <td>2.1</td>\n",
       "      <td>MIDAGE SINGLES/COUPLES</td>\n",
       "      <td>Budget</td>\n",
       "    </tr>\n",
       "    <tr>\n",
       "      <th>4</th>\n",
       "      <td>2019-05-20</td>\n",
       "      <td>1</td>\n",
       "      <td>1343</td>\n",
       "      <td>383</td>\n",
       "      <td>61</td>\n",
       "      <td>Smiths Crinkle Cut  Chips Chicken</td>\n",
       "      <td>170g</td>\n",
       "      <td>Smiths</td>\n",
       "      <td>2</td>\n",
       "      <td>2.9</td>\n",
       "      <td>MIDAGE SINGLES/COUPLES</td>\n",
       "      <td>Budget</td>\n",
       "    </tr>\n",
       "  </tbody>\n",
       "</table>\n",
       "</div>"
      ],
      "text/plain": [
       "        DATE  STORE_NBR  LYLTY_CARD_NBR  TXN_ID  PROD_NBR  \\\n",
       "0 2018-10-17          1            1000       1         5   \n",
       "1 2019-05-14          1            1307     348        66   \n",
       "2 2018-11-10          1            1307     346        96   \n",
       "3 2019-03-09          1            1307     347        54   \n",
       "4 2019-05-20          1            1343     383        61   \n",
       "\n",
       "                      PROD_NAME_CLEAN PROD_SIZE       BRAND_NAME  PROD_QTY  \\\n",
       "0  Natural Chip        Compny SeaSalt      175g  Natural Chip Co         2   \n",
       "1                    CCs Nacho Cheese      175g              CCs         3   \n",
       "2           WW Original Stacked Chips      160g       Woolworths         2   \n",
       "3                        CCs Original      175g              CCs         1   \n",
       "4   Smiths Crinkle Cut  Chips Chicken      170g           Smiths         2   \n",
       "\n",
       "   TOT_SALES               LIFESTAGE MEMBER_TYPE  \n",
       "0        6.0   YOUNG SINGLES/COUPLES     Premium  \n",
       "1        6.3  MIDAGE SINGLES/COUPLES      Budget  \n",
       "2        3.8  MIDAGE SINGLES/COUPLES      Budget  \n",
       "3        2.1  MIDAGE SINGLES/COUPLES      Budget  \n",
       "4        2.9  MIDAGE SINGLES/COUPLES      Budget  "
      ]
     },
     "execution_count": 532,
     "metadata": {},
     "output_type": "execute_result"
    }
   ],
   "source": [
    "merged_df.head()"
   ]
  },
  {
   "cell_type": "code",
   "execution_count": 533,
   "id": "aa5596eb-06af-407c-a588-20b7397e8a85",
   "metadata": {},
   "outputs": [
    {
     "data": {
      "text/plain": [
       "DatetimeIndex(['2018-12-25'], dtype='datetime64[ns]', freq=None)"
      ]
     },
     "execution_count": 533,
     "metadata": {},
     "output_type": "execute_result"
    }
   ],
   "source": [
    "## Checking for any missing dates\n",
    "pd.date_range(start=\"2018-07-01\", end=\"2019-06-30\").difference(trans_df[\"DATE\"]) "
   ]
  },
  {
   "cell_type": "raw",
   "id": "8fadc714-9f81-4085-9f89-c1aeb4b25fe6",
   "metadata": {},
   "source": [
    "Christmas is missing, probably because stores were closed"
   ]
  },
  {
   "cell_type": "code",
   "execution_count": 534,
   "id": "02f53963-6d41-453f-a976-5b5c285998b9",
   "metadata": {},
   "outputs": [],
   "source": [
    "## Adding a row for Christmas\n",
    "# Create new row with Christmas data\n",
    "\n",
    "christmas_row = pd.DataFrame({\n",
    "    'DATE': ['2018-12-25'],\n",
    "    'STORE_NBR': [0],\n",
    "    'LYLTY_CARD_NBR': [0],\n",
    "    'TXN_ID': [0],\n",
    "    'PROD_NBR': [0],\n",
    "    'PROD_NAME_CLEAN': ['None'],\n",
    "    'PROD_SIZE': ['0g'],\n",
    "    'BRAND_NAME': ['None'],\n",
    "    'PROD_QTY': [0],\n",
    "    'TOT_SALES': [0],\n",
    "    'LIFESTAGE': ['None'],\n",
    "    'MEMBER_TYPE': ['None']\n",
    "})\n",
    "\n",
    "# Convert DATE to datetime\n",
    "\n",
    "christmas_row['DATE'] = pd.to_datetime(christmas_row['DATE'])\n",
    "\n",
    "# Add row and sort\n",
    "\n",
    "merged_df = pd.concat([merged_df, christmas_row], ignore_index=True)\n",
    "merged_df = merged_df.sort_values('DATE').reset_index(drop=True)"
   ]
  },
  {
   "cell_type": "code",
   "execution_count": 535,
   "id": "3e8f5eb9-c78c-438d-b9c2-7a87c678c4ed",
   "metadata": {},
   "outputs": [
    {
     "data": {
      "text/plain": [
       "DATE               0\n",
       "STORE_NBR          0\n",
       "LYLTY_CARD_NBR     0\n",
       "TXN_ID             0\n",
       "PROD_NBR           0\n",
       "PROD_NAME_CLEAN    0\n",
       "PROD_SIZE          0\n",
       "BRAND_NAME         0\n",
       "PROD_QTY           0\n",
       "TOT_SALES          0\n",
       "LIFESTAGE          0\n",
       "MEMBER_TYPE        0\n",
       "dtype: int64"
      ]
     },
     "execution_count": 535,
     "metadata": {},
     "output_type": "execute_result"
    }
   ],
   "source": [
    "merged_df.isnull().sum()"
   ]
  },
  {
   "cell_type": "code",
   "execution_count": 536,
   "id": "e6f785f4-8f0e-4c48-94a7-22450ad0b987",
   "metadata": {},
   "outputs": [],
   "source": [
    "## Data looks good\n",
    "\n",
    "merged_df.to_csv('QVI_mergeddata.csv')"
   ]
  },
  {
   "cell_type": "raw",
   "id": "bae5c576-b6e6-4289-8f71-9fed1529525c",
   "metadata": {},
   "source": [
    "########################################## Data analysis on customer segments ##########################################"
   ]
  },
  {
   "cell_type": "code",
   "execution_count": 538,
   "id": "64644136-d24d-4edc-83fd-01b5193efd79",
   "metadata": {},
   "outputs": [
    {
     "data": {
      "image/png": "[encoded data removed]",
      "text/plain": [
       "<Figure size 640x480 with 2 Axes>"
      ]
     },
     "metadata": {},
     "output_type": "display_data"
    }
   ],
   "source": [
    "## Correlation between columns in merged_df\n",
    "\n",
    "corr = merged_df.corr(numeric_only=True)\n",
    "sns.heatmap(corr, annot=True)\n",
    "plt.show()\n",
    "\n"
   ]
  },
  {
   "cell_type": "code",
   "execution_count": 539,
   "id": "6a2b208d-5407-430b-a36c-3ec98b9d0c96",
   "metadata": {},
   "outputs": [
    {
     "data": {
      "image/png": "[encoded data removed]",
      "text/plain": [
       "<Figure size 1000x600 with 1 Axes>"
      ]
     },
     "metadata": {},
     "output_type": "display_data"
    }
   ],
   "source": [
    "## Total Sales over time\n",
    "## Grouping by the TOT_SALES column for each recorded date\n",
    "\n",
    "sales_over_time\n",
    "sales_over_time = merged_df.groupby(\"DATE\")[\"TOT_SALES\"].sum().reset_index()   \n",
    "\n",
    "plt.figure(figsize=(10, 6))\n",
    "plt.plot(sales_over_time[\"DATE\"], sales_over_time[\"TOT_SALES\"], color='blue')\n",
    "plt.title(\"Total Sales from 2018-07-01 to 2019-06-30\")\n",
    "plt.xlabel(\"Date\")\n",
    "plt.ylabel(\"Total Sales\")\n",
    "plt.show()"
   ]
  },
  {
   "cell_type": "code",
   "execution_count": null,
   "id": "18f10f9f-08af-4ff8-8a38-9bdcd0b41f36",
   "metadata": {},
   "outputs": [],
   "source": [
    "## From the graph above, we can see that there is a huge from on one of the dates, which is 2018-12-25, as we manually added the \n",
    "data in, with Total Sales being 0 on that day.\n",
    "\n",
    "However, there was a major increase in total sales before that.\n",
    "\n",
    "There were also small decreases in total sales on 2018-08 and 2019-05"
   ]
  },
  {
   "cell_type": "code",
   "execution_count": 541,
   "id": "0c8f59db-0fd0-4ae5-b513-0a231fd6906c",
   "metadata": {},
   "outputs": [
    {
     "data": {
      "image/png": "[encoded data removed]",
      "text/plain": [
       "<Figure size 1200x500 with 1 Axes>"
      ]
     },
     "metadata": {},
     "output_type": "display_data"
    }
   ],
   "source": [
    "## To take a closer look in december\n",
    "\n",
    "plt.figure(figsize=(12, 5))\n",
    "plt.plot(sales_over_time[\"DATE\"][sales_over_time[\"DATE\"].dt.month==12], sales_over_time[\"TOT_SALES\"][sales_over_time[\"DATE\"].dt.month==12])\n",
    "plt.title(\"Total Sales for the Entire Month of December 2018\")\n",
    "plt.xlabel(\"Date\")\n",
    "plt.ylabel(\"Total Sales\")\n",
    "plt.show()"
   ]
  },
  {
   "cell_type": "code",
   "execution_count": null,
   "id": "f85704c3-4122-4ef1-abc3-e3f461975f72",
   "metadata": {},
   "outputs": [],
   "source": [
    "## Steady increase towards Christmas Day, as we expect because people want to buy food for the occasion"
   ]
  },
  {
   "cell_type": "code",
   "execution_count": 543,
   "id": "b31d42e1-5e9a-4778-9ab0-7f5134187d9e",
   "metadata": {},
   "outputs": [
    {
     "data": {
      "image/png": "[encoded data removed]",
      "text/plain": [
       "<Figure size 1200x500 with 1 Axes>"
      ]
     },
     "metadata": {},
     "output_type": "display_data"
    }
   ],
   "source": [
    "## Plotting a line graph of the total sales for each recorded date during August 2018\n",
    "\n",
    "plt.figure(figsize=(12, 5))\n",
    "plt.plot(sales_over_time[\"DATE\"][sales_over_time[\"DATE\"].dt.month==8], sales_over_time[\"TOT_SALES\"][sales_over_time[\"DATE\"].dt.month==8])\n",
    "plt.title(\"Total Sales for the Entire Month of August 2018\")\n",
    "plt.xlabel(\"Date\")\n",
    "plt.ylabel(\"Total Sales\")\n",
    "plt.show()"
   ]
  },
  {
   "cell_type": "code",
   "execution_count": 544,
   "id": "88ed6ccf-8569-467f-b79e-c60c10429280",
   "metadata": {},
   "outputs": [
    {
     "data": {
      "text/plain": [
       "array(['0g', '110g', '125g', '134g', '135g', '150G', '150g', '160g',\n",
       "       '165g', '170g', '175G', '175g', '180g', '190g', '200g', '210G',\n",
       "       '210g', '220g', '250g', '270g', '330g', '380g', '70g', '90g'],\n",
       "      dtype=object)"
      ]
     },
     "execution_count": 544,
     "metadata": {},
     "output_type": "execute_result"
    }
   ],
   "source": [
    "merged_df['PROD_SIZE'].sort_values().unique()"
   ]
  },
  {
   "cell_type": "code",
   "execution_count": 545,
   "id": "10664d74-49c4-4b2c-93e1-03cae138fbdf",
   "metadata": {},
   "outputs": [],
   "source": [
    "## I want to make the PROD_SIZE column standardised\n",
    "# Standardize PROD_SIZE column by converting 'G' to 'g'\n",
    "\n",
    "merged_df['PROD_SIZE'] = merged_df['PROD_SIZE'].str.replace('G', 'g')"
   ]
  },
  {
   "cell_type": "code",
   "execution_count": null,
   "id": "cbfa5d8a-956c-4488-bd2c-eea1219209f9",
   "metadata": {},
   "outputs": [],
   "source": [
    "## It would be best if the stores did their promotions during december so as to be able to sell out more volume.\n",
    "## We should find out which packaging size did the best, before Christmas Day in the month of December"
   ]
  },
  {
   "cell_type": "code",
   "execution_count": 547,
   "id": "30bd7388-de7a-42a2-9565-d86519c17659",
   "metadata": {},
   "outputs": [],
   "source": [
    "## Data for the dates between 1st December 2018 and 24th December 2018\n",
    "\n",
    "december_sales=merged_df[(merged_df[\"DATE\"]>=\"2018-12-1\") & (merged_df[\"DATE\"]<=\"2018-12-24\")] \n",
    "\n",
    "## Sorting TOT_SALES column\n",
    "\n",
    "december_sales=december_sales.sort_values(by=\"PROD_SIZE\") \n",
    "december_sales=december_sales.reset_index(drop=True)  \n"
   ]
  },
  {
   "cell_type": "code",
   "execution_count": 548,
   "id": "bfd2065f-6924-4fe3-9427-280d15a45acc",
   "metadata": {},
   "outputs": [
    {
     "data": {
      "image/png": "[encoded data removed]",
      "text/plain": [
       "<Figure size 1300x500 with 1 Axes>"
      ]
     },
     "metadata": {},
     "output_type": "display_data"
    }
   ],
   "source": [
    "## Plotting a bar graph of the total sales for each package size between 1st December 2018 and 24th December 2018.\n",
    "\n",
    "plt.figure(figsize=(13, 5))\n",
    "sns.barplot(x=\"PROD_SIZE\", y=\"TOT_SALES\", data=december_sales)\n",
    "plt.title(\"Total Sales for Each Package Size on During the Holiday Season (1th December 2018 - 24th December 2018)\")\n",
    "plt.xlabel(\"Package Size\")\n",
    "plt.ylabel(\"Total Sales\")\n",
    "plt.show()"
   ]
  },
  {
   "cell_type": "code",
   "execution_count": null,
   "id": "2022246d-5d18-4fd6-b030-1181ee11d43a",
   "metadata": {},
   "outputs": [],
   "source": [
    "## It is clear from the plot above that 380g packets brought in the most sales during the month of December\n",
    "## and stores can look to sell more / run a promotion of that sized packets during December"
   ]
  },
  {
   "cell_type": "code",
   "execution_count": null,
   "id": "c8f03300-2e62-473d-a3ea-c0af7c4568a1",
   "metadata": {},
   "outputs": [],
   "source": [
    "## We can also look at the brands the brought in the largest sales during the month of December"
   ]
  },
  {
   "cell_type": "code",
   "execution_count": 551,
   "id": "97125f1b-6767-4e5b-a9ae-572b8645ebb3",
   "metadata": {},
   "outputs": [
    {
     "data": {
      "text/html": [
       "<div>\n",
       "<style scoped>\n",
       "    .dataframe tbody tr th:only-of-type {\n",
       "        vertical-align: middle;\n",
       "    }\n",
       "\n",
       "    .dataframe tbody tr th {\n",
       "        vertical-align: top;\n",
       "    }\n",
       "\n",
       "    .dataframe thead th {\n",
       "        text-align: right;\n",
       "    }\n",
       "</style>\n",
       "<table border=\"1\" class=\"dataframe\">\n",
       "  <thead>\n",
       "    <tr style=\"text-align: right;\">\n",
       "      <th></th>\n",
       "      <th>BRAND_NAME</th>\n",
       "      <th>TOT_SALES</th>\n",
       "    </tr>\n",
       "  </thead>\n",
       "  <tbody>\n",
       "    <tr>\n",
       "      <th>9</th>\n",
       "      <td>Kettle</td>\n",
       "      <td>27036.4</td>\n",
       "    </tr>\n",
       "    <tr>\n",
       "      <th>5</th>\n",
       "      <td>Doritos</td>\n",
       "      <td>15705.0</td>\n",
       "    </tr>\n",
       "    <tr>\n",
       "      <th>13</th>\n",
       "      <td>Smiths</td>\n",
       "      <td>15162.6</td>\n",
       "    </tr>\n",
       "    <tr>\n",
       "      <th>11</th>\n",
       "      <td>Pringles</td>\n",
       "      <td>12099.0</td>\n",
       "    </tr>\n",
       "    <tr>\n",
       "      <th>8</th>\n",
       "      <td>Infuzions</td>\n",
       "      <td>6727.2</td>\n",
       "    </tr>\n",
       "  </tbody>\n",
       "</table>\n",
       "</div>"
      ],
      "text/plain": [
       "   BRAND_NAME  TOT_SALES\n",
       "9      Kettle    27036.4\n",
       "5     Doritos    15705.0\n",
       "13     Smiths    15162.6\n",
       "11   Pringles    12099.0\n",
       "8   Infuzions     6727.2"
      ]
     },
     "execution_count": 551,
     "metadata": {},
     "output_type": "execute_result"
    }
   ],
   "source": [
    "best_selling_brands_december = december_sales.groupby(\"BRAND_NAME\")[\"TOT_SALES\"].sum().reset_index().sort_values(by = \"TOT_SALES\", ascending = False)\n",
    "best_selling_brands_december.head()"
   ]
  },
  {
   "cell_type": "raw",
   "id": "cfb48bbe-5f25-4c26-9cf6-288f127966fc",
   "metadata": {},
   "source": [
    "Kettle brought in the most sales in the month of December, which is what stores can look to promote during that month"
   ]
  },
  {
   "cell_type": "code",
   "execution_count": 553,
   "id": "f942c0ee-dbe1-4bcb-9e86-91e01d1b2203",
   "metadata": {},
   "outputs": [
    {
     "data": {
      "image/png": "[encoded data removed]",
      "text/plain": [
       "<Figure size 1300x500 with 1 Axes>"
      ]
     },
     "metadata": {},
     "output_type": "display_data"
    }
   ],
   "source": [
    "## Checking most popular package sizing and brands in general\n",
    "## Plotting a bar graph of the total sales for each package size between 1st December 2018 and 24th December 2018.\n",
    "\n",
    "## Grouping by the package size\n",
    "\n",
    "package_sales=merged_df.groupby(\"PROD_SIZE\")[\"TOT_SALES\"].sum().reset_index().sort_values(by=\"TOT_SALES\", ascending=False)   \n",
    "package_sales=package_sales.reset_index(drop=True)\n",
    "\n",
    "plt.figure(figsize=(13, 5))\n",
    "sns.barplot(x=\"PROD_SIZE\", y=\"TOT_SALES\", data=package_sales)\n",
    "plt.title(\"Total Sales for Each Package Size During the Entire Fiscal Year (1st July 2018 - 30th June 2019)\")\n",
    "plt.xlabel(\"Package Size\")\n",
    "plt.ylabel(\"Total Sales\")\n",
    "plt.show()"
   ]
  },
  {
   "cell_type": "code",
   "execution_count": null,
   "id": "ba59b756-32fc-4c19-92ea-6209ccc6f7b0",
   "metadata": {},
   "outputs": [],
   "source": [
    "## In general, other than the month of December, customers prefer to get smaller packets of Chips (175g)"
   ]
  },
  {
   "cell_type": "code",
   "execution_count": 555,
   "id": "f499c158-8c05-4ae8-b06c-0755b9539a77",
   "metadata": {},
   "outputs": [
    {
     "data": {
      "text/html": [
       "<div>\n",
       "<style scoped>\n",
       "    .dataframe tbody tr th:only-of-type {\n",
       "        vertical-align: middle;\n",
       "    }\n",
       "\n",
       "    .dataframe tbody tr th {\n",
       "        vertical-align: top;\n",
       "    }\n",
       "\n",
       "    .dataframe thead th {\n",
       "        text-align: right;\n",
       "    }\n",
       "</style>\n",
       "<table border=\"1\" class=\"dataframe\">\n",
       "  <thead>\n",
       "    <tr style=\"text-align: right;\">\n",
       "      <th></th>\n",
       "      <th>BRAND_NAME</th>\n",
       "      <th>TOT_SALES</th>\n",
       "    </tr>\n",
       "  </thead>\n",
       "  <tbody>\n",
       "    <tr>\n",
       "      <th>9</th>\n",
       "      <td>Kettle</td>\n",
       "      <td>390239.8</td>\n",
       "    </tr>\n",
       "    <tr>\n",
       "      <th>5</th>\n",
       "      <td>Doritos</td>\n",
       "      <td>226329.9</td>\n",
       "    </tr>\n",
       "    <tr>\n",
       "      <th>14</th>\n",
       "      <td>Smiths</td>\n",
       "      <td>217492.0</td>\n",
       "    </tr>\n",
       "    <tr>\n",
       "      <th>12</th>\n",
       "      <td>Pringles</td>\n",
       "      <td>177655.5</td>\n",
       "    </tr>\n",
       "    <tr>\n",
       "      <th>8</th>\n",
       "      <td>Infuzions</td>\n",
       "      <td>99047.6</td>\n",
       "    </tr>\n",
       "  </tbody>\n",
       "</table>\n",
       "</div>"
      ],
      "text/plain": [
       "   BRAND_NAME  TOT_SALES\n",
       "9      Kettle   390239.8\n",
       "5     Doritos   226329.9\n",
       "14     Smiths   217492.0\n",
       "12   Pringles   177655.5\n",
       "8   Infuzions    99047.6"
      ]
     },
     "execution_count": 555,
     "metadata": {},
     "output_type": "execute_result"
    }
   ],
   "source": [
    "best_sellings_brands_general = merged_df.groupby(\"BRAND_NAME\")[\"TOT_SALES\"].sum().reset_index().sort_values(by=\"TOT_SALES\", ascending=False)\n",
    "best_sellings_brands_general.head()"
   ]
  },
  {
   "cell_type": "code",
   "execution_count": null,
   "id": "3ba29810-fb84-48ee-8fdd-93ffcd898f8f",
   "metadata": {},
   "outputs": [],
   "source": [
    "## Kettle is the best selling brand all year round"
   ]
  },
  {
   "cell_type": "code",
   "execution_count": null,
   "id": "34cfa45c-e22d-49e7-b329-e96a8df11daf",
   "metadata": {},
   "outputs": [],
   "source": [
    "## Moving on to customer analysis"
   ]
  },
  {
   "cell_type": "code",
   "execution_count": null,
   "id": "5998f3ea-1231-4dda-8835-2b9419981b9a",
   "metadata": {},
   "outputs": [],
   "source": [
    "## Finding out which customer segment contribute most to sales."
   ]
  },
  {
   "cell_type": "code",
   "execution_count": 559,
   "id": "0d7c1b77-589c-4ad4-a803-35381174eb34",
   "metadata": {},
   "outputs": [
    {
     "data": {
      "text/html": [
       "<div>\n",
       "<style scoped>\n",
       "    .dataframe tbody tr th:only-of-type {\n",
       "        vertical-align: middle;\n",
       "    }\n",
       "\n",
       "    .dataframe tbody tr th {\n",
       "        vertical-align: top;\n",
       "    }\n",
       "\n",
       "    .dataframe thead th {\n",
       "        text-align: right;\n",
       "    }\n",
       "</style>\n",
       "<table border=\"1\" class=\"dataframe\">\n",
       "  <thead>\n",
       "    <tr style=\"text-align: right;\">\n",
       "      <th></th>\n",
       "      <th>LIFESTAGE</th>\n",
       "      <th>MEMBER_TYPE</th>\n",
       "      <th>TOT_SALES</th>\n",
       "    </tr>\n",
       "  </thead>\n",
       "  <tbody>\n",
       "    <tr>\n",
       "      <th>0</th>\n",
       "      <td>OLDER FAMILIES</td>\n",
       "      <td>Budget</td>\n",
       "      <td>156863.75</td>\n",
       "    </tr>\n",
       "    <tr>\n",
       "      <th>1</th>\n",
       "      <td>YOUNG SINGLES/COUPLES</td>\n",
       "      <td>Mainstream</td>\n",
       "      <td>147582.20</td>\n",
       "    </tr>\n",
       "    <tr>\n",
       "      <th>2</th>\n",
       "      <td>RETIREES</td>\n",
       "      <td>Mainstream</td>\n",
       "      <td>145168.95</td>\n",
       "    </tr>\n",
       "    <tr>\n",
       "      <th>3</th>\n",
       "      <td>YOUNG FAMILIES</td>\n",
       "      <td>Budget</td>\n",
       "      <td>129717.95</td>\n",
       "    </tr>\n",
       "    <tr>\n",
       "      <th>4</th>\n",
       "      <td>OLDER SINGLES/COUPLES</td>\n",
       "      <td>Budget</td>\n",
       "      <td>127833.60</td>\n",
       "    </tr>\n",
       "    <tr>\n",
       "      <th>5</th>\n",
       "      <td>OLDER SINGLES/COUPLES</td>\n",
       "      <td>Mainstream</td>\n",
       "      <td>124648.50</td>\n",
       "    </tr>\n",
       "    <tr>\n",
       "      <th>6</th>\n",
       "      <td>OLDER SINGLES/COUPLES</td>\n",
       "      <td>Premium</td>\n",
       "      <td>123537.55</td>\n",
       "    </tr>\n",
       "    <tr>\n",
       "      <th>7</th>\n",
       "      <td>RETIREES</td>\n",
       "      <td>Budget</td>\n",
       "      <td>105916.30</td>\n",
       "    </tr>\n",
       "    <tr>\n",
       "      <th>8</th>\n",
       "      <td>OLDER FAMILIES</td>\n",
       "      <td>Mainstream</td>\n",
       "      <td>96413.55</td>\n",
       "    </tr>\n",
       "    <tr>\n",
       "      <th>9</th>\n",
       "      <td>RETIREES</td>\n",
       "      <td>Premium</td>\n",
       "      <td>91296.65</td>\n",
       "    </tr>\n",
       "    <tr>\n",
       "      <th>10</th>\n",
       "      <td>YOUNG FAMILIES</td>\n",
       "      <td>Mainstream</td>\n",
       "      <td>86338.25</td>\n",
       "    </tr>\n",
       "    <tr>\n",
       "      <th>11</th>\n",
       "      <td>MIDAGE SINGLES/COUPLES</td>\n",
       "      <td>Mainstream</td>\n",
       "      <td>84734.25</td>\n",
       "    </tr>\n",
       "    <tr>\n",
       "      <th>12</th>\n",
       "      <td>YOUNG FAMILIES</td>\n",
       "      <td>Premium</td>\n",
       "      <td>78571.70</td>\n",
       "    </tr>\n",
       "    <tr>\n",
       "      <th>13</th>\n",
       "      <td>OLDER FAMILIES</td>\n",
       "      <td>Premium</td>\n",
       "      <td>75242.60</td>\n",
       "    </tr>\n",
       "    <tr>\n",
       "      <th>14</th>\n",
       "      <td>YOUNG SINGLES/COUPLES</td>\n",
       "      <td>Budget</td>\n",
       "      <td>57122.10</td>\n",
       "    </tr>\n",
       "    <tr>\n",
       "      <th>15</th>\n",
       "      <td>MIDAGE SINGLES/COUPLES</td>\n",
       "      <td>Premium</td>\n",
       "      <td>54443.85</td>\n",
       "    </tr>\n",
       "    <tr>\n",
       "      <th>16</th>\n",
       "      <td>YOUNG SINGLES/COUPLES</td>\n",
       "      <td>Premium</td>\n",
       "      <td>39052.30</td>\n",
       "    </tr>\n",
       "    <tr>\n",
       "      <th>17</th>\n",
       "      <td>MIDAGE SINGLES/COUPLES</td>\n",
       "      <td>Budget</td>\n",
       "      <td>33345.70</td>\n",
       "    </tr>\n",
       "    <tr>\n",
       "      <th>18</th>\n",
       "      <td>NEW FAMILIES</td>\n",
       "      <td>Budget</td>\n",
       "      <td>20607.45</td>\n",
       "    </tr>\n",
       "    <tr>\n",
       "      <th>19</th>\n",
       "      <td>NEW FAMILIES</td>\n",
       "      <td>Mainstream</td>\n",
       "      <td>15979.70</td>\n",
       "    </tr>\n",
       "    <tr>\n",
       "      <th>20</th>\n",
       "      <td>NEW FAMILIES</td>\n",
       "      <td>Premium</td>\n",
       "      <td>10760.80</td>\n",
       "    </tr>\n",
       "  </tbody>\n",
       "</table>\n",
       "</div>"
      ],
      "text/plain": [
       "                 LIFESTAGE MEMBER_TYPE  TOT_SALES\n",
       "0           OLDER FAMILIES      Budget  156863.75\n",
       "1    YOUNG SINGLES/COUPLES  Mainstream  147582.20\n",
       "2                 RETIREES  Mainstream  145168.95\n",
       "3           YOUNG FAMILIES      Budget  129717.95\n",
       "4    OLDER SINGLES/COUPLES      Budget  127833.60\n",
       "5    OLDER SINGLES/COUPLES  Mainstream  124648.50\n",
       "6    OLDER SINGLES/COUPLES     Premium  123537.55\n",
       "7                 RETIREES      Budget  105916.30\n",
       "8           OLDER FAMILIES  Mainstream   96413.55\n",
       "9                 RETIREES     Premium   91296.65\n",
       "10          YOUNG FAMILIES  Mainstream   86338.25\n",
       "11  MIDAGE SINGLES/COUPLES  Mainstream   84734.25\n",
       "12          YOUNG FAMILIES     Premium   78571.70\n",
       "13          OLDER FAMILIES     Premium   75242.60\n",
       "14   YOUNG SINGLES/COUPLES      Budget   57122.10\n",
       "15  MIDAGE SINGLES/COUPLES     Premium   54443.85\n",
       "16   YOUNG SINGLES/COUPLES     Premium   39052.30\n",
       "17  MIDAGE SINGLES/COUPLES      Budget   33345.70\n",
       "18            NEW FAMILIES      Budget   20607.45\n",
       "19            NEW FAMILIES  Mainstream   15979.70\n",
       "20            NEW FAMILIES     Premium   10760.80"
      ]
     },
     "execution_count": 559,
     "metadata": {},
     "output_type": "execute_result"
    }
   ],
   "source": [
    "cus_segment = merged_df.groupby([\"LIFESTAGE\",\"MEMBER_TYPE\"])[\"TOT_SALES\"].sum().reset_index().sort_values(by = \"TOT_SALES\", ascending = False)\n",
    "## None type is from the row that we added in for 2018-12-25\n",
    "\n",
    "cus_segment = cus_segment[cus_segment['MEMBER_TYPE'] != 'None'].reset_index(drop=True)## None type is from the row that we added in for 2018-12-25\n",
    "cus_segment"
   ]
  },
  {
   "cell_type": "code",
   "execution_count": 560,
   "id": "b59164b3-154a-44c1-9f36-7ddbd9a00b4b",
   "metadata": {},
   "outputs": [
    {
     "data": {
      "image/png": "[encoded data removed]",
      "text/plain": [
       "<Figure size 1300x500 with 1 Axes>"
      ]
     },
     "metadata": {},
     "output_type": "display_data"
    }
   ],
   "source": [
    "## Plotting a bar graph of the total sales for each customer segment.\n",
    "\n",
    "plt.figure(figsize=(13, 5))\n",
    "sns.barplot(x=\"TOT_SALES\", y=\"LIFESTAGE\", hue=\"MEMBER_TYPE\", data=cus_segment)\n",
    "plt.title(\"Total Sales for Each Customer Segment\")\n",
    "plt.xlabel(\"Total Sales\")\n",
    "plt.ylabel(\"Customer Segment\")\n",
    "plt.show()"
   ]
  },
  {
   "cell_type": "code",
   "execution_count": null,
   "id": "48fa68d4-cc2c-4cc4-8e19-31b036aeddef",
   "metadata": {},
   "outputs": [],
   "source": [
    "## The top 3 groups bringing in the most sales are \n",
    "## Budget - older families, Mainstream - young singles/couples, and Mainstream - retirees"
   ]
  },
  {
   "cell_type": "code",
   "execution_count": 562,
   "id": "e2dec957-d25b-450b-aa0a-f164614f1e57",
   "metadata": {},
   "outputs": [
    {
     "data": {
      "text/html": [
       "<div>\n",
       "<style scoped>\n",
       "    .dataframe tbody tr th:only-of-type {\n",
       "        vertical-align: middle;\n",
       "    }\n",
       "\n",
       "    .dataframe tbody tr th {\n",
       "        vertical-align: top;\n",
       "    }\n",
       "\n",
       "    .dataframe thead th {\n",
       "        text-align: right;\n",
       "    }\n",
       "</style>\n",
       "<table border=\"1\" class=\"dataframe\">\n",
       "  <thead>\n",
       "    <tr style=\"text-align: right;\">\n",
       "      <th></th>\n",
       "      <th>LIFESTAGE</th>\n",
       "      <th>MEMBER_TYPE</th>\n",
       "      <th>CUSTOMER_COUNT</th>\n",
       "    </tr>\n",
       "  </thead>\n",
       "  <tbody>\n",
       "    <tr>\n",
       "      <th>0</th>\n",
       "      <td>MIDAGE SINGLES/COUPLES</td>\n",
       "      <td>Budget</td>\n",
       "      <td>1474</td>\n",
       "    </tr>\n",
       "    <tr>\n",
       "      <th>1</th>\n",
       "      <td>NEW FAMILIES</td>\n",
       "      <td>Budget</td>\n",
       "      <td>1087</td>\n",
       "    </tr>\n",
       "    <tr>\n",
       "      <th>2</th>\n",
       "      <td>OLDER FAMILIES</td>\n",
       "      <td>Budget</td>\n",
       "      <td>4611</td>\n",
       "    </tr>\n",
       "    <tr>\n",
       "      <th>3</th>\n",
       "      <td>OLDER SINGLES/COUPLES</td>\n",
       "      <td>Budget</td>\n",
       "      <td>4849</td>\n",
       "    </tr>\n",
       "    <tr>\n",
       "      <th>4</th>\n",
       "      <td>RETIREES</td>\n",
       "      <td>Budget</td>\n",
       "      <td>4385</td>\n",
       "    </tr>\n",
       "    <tr>\n",
       "      <th>5</th>\n",
       "      <td>YOUNG FAMILIES</td>\n",
       "      <td>Budget</td>\n",
       "      <td>3953</td>\n",
       "    </tr>\n",
       "    <tr>\n",
       "      <th>6</th>\n",
       "      <td>YOUNG SINGLES/COUPLES</td>\n",
       "      <td>Budget</td>\n",
       "      <td>3647</td>\n",
       "    </tr>\n",
       "    <tr>\n",
       "      <th>7</th>\n",
       "      <td>MIDAGE SINGLES/COUPLES</td>\n",
       "      <td>Mainstream</td>\n",
       "      <td>3298</td>\n",
       "    </tr>\n",
       "    <tr>\n",
       "      <th>8</th>\n",
       "      <td>NEW FAMILIES</td>\n",
       "      <td>Mainstream</td>\n",
       "      <td>830</td>\n",
       "    </tr>\n",
       "    <tr>\n",
       "      <th>9</th>\n",
       "      <td>OLDER FAMILIES</td>\n",
       "      <td>Mainstream</td>\n",
       "      <td>2788</td>\n",
       "    </tr>\n",
       "    <tr>\n",
       "      <th>10</th>\n",
       "      <td>OLDER SINGLES/COUPLES</td>\n",
       "      <td>Mainstream</td>\n",
       "      <td>4858</td>\n",
       "    </tr>\n",
       "    <tr>\n",
       "      <th>11</th>\n",
       "      <td>RETIREES</td>\n",
       "      <td>Mainstream</td>\n",
       "      <td>6358</td>\n",
       "    </tr>\n",
       "    <tr>\n",
       "      <th>12</th>\n",
       "      <td>YOUNG FAMILIES</td>\n",
       "      <td>Mainstream</td>\n",
       "      <td>2685</td>\n",
       "    </tr>\n",
       "    <tr>\n",
       "      <th>13</th>\n",
       "      <td>YOUNG SINGLES/COUPLES</td>\n",
       "      <td>Mainstream</td>\n",
       "      <td>7917</td>\n",
       "    </tr>\n",
       "    <tr>\n",
       "      <th>14</th>\n",
       "      <td>MIDAGE SINGLES/COUPLES</td>\n",
       "      <td>Premium</td>\n",
       "      <td>2369</td>\n",
       "    </tr>\n",
       "    <tr>\n",
       "      <th>15</th>\n",
       "      <td>NEW FAMILIES</td>\n",
       "      <td>Premium</td>\n",
       "      <td>575</td>\n",
       "    </tr>\n",
       "    <tr>\n",
       "      <th>16</th>\n",
       "      <td>OLDER FAMILIES</td>\n",
       "      <td>Premium</td>\n",
       "      <td>2231</td>\n",
       "    </tr>\n",
       "    <tr>\n",
       "      <th>17</th>\n",
       "      <td>OLDER SINGLES/COUPLES</td>\n",
       "      <td>Premium</td>\n",
       "      <td>4682</td>\n",
       "    </tr>\n",
       "    <tr>\n",
       "      <th>18</th>\n",
       "      <td>RETIREES</td>\n",
       "      <td>Premium</td>\n",
       "      <td>3812</td>\n",
       "    </tr>\n",
       "    <tr>\n",
       "      <th>19</th>\n",
       "      <td>YOUNG FAMILIES</td>\n",
       "      <td>Premium</td>\n",
       "      <td>2398</td>\n",
       "    </tr>\n",
       "    <tr>\n",
       "      <th>20</th>\n",
       "      <td>YOUNG SINGLES/COUPLES</td>\n",
       "      <td>Premium</td>\n",
       "      <td>2480</td>\n",
       "    </tr>\n",
       "  </tbody>\n",
       "</table>\n",
       "</div>"
      ],
      "text/plain": [
       "                 LIFESTAGE MEMBER_TYPE  CUSTOMER_COUNT\n",
       "0   MIDAGE SINGLES/COUPLES      Budget            1474\n",
       "1             NEW FAMILIES      Budget            1087\n",
       "2           OLDER FAMILIES      Budget            4611\n",
       "3    OLDER SINGLES/COUPLES      Budget            4849\n",
       "4                 RETIREES      Budget            4385\n",
       "5           YOUNG FAMILIES      Budget            3953\n",
       "6    YOUNG SINGLES/COUPLES      Budget            3647\n",
       "7   MIDAGE SINGLES/COUPLES  Mainstream            3298\n",
       "8             NEW FAMILIES  Mainstream             830\n",
       "9           OLDER FAMILIES  Mainstream            2788\n",
       "10   OLDER SINGLES/COUPLES  Mainstream            4858\n",
       "11                RETIREES  Mainstream            6358\n",
       "12          YOUNG FAMILIES  Mainstream            2685\n",
       "13   YOUNG SINGLES/COUPLES  Mainstream            7917\n",
       "14  MIDAGE SINGLES/COUPLES     Premium            2369\n",
       "15            NEW FAMILIES     Premium             575\n",
       "16          OLDER FAMILIES     Premium            2231\n",
       "17   OLDER SINGLES/COUPLES     Premium            4682\n",
       "18                RETIREES     Premium            3812\n",
       "19          YOUNG FAMILIES     Premium            2398\n",
       "20   YOUNG SINGLES/COUPLES     Premium            2480"
      ]
     },
     "execution_count": 562,
     "metadata": {},
     "output_type": "execute_result"
    }
   ],
   "source": [
    "## Let's see if the higher sales are due to there being more customers who buy chips\n",
    "\n",
    "cus_count_by_group = merged_df[merged_df['LIFESTAGE'] != 'None']\n",
    "cus_count_by_group = cus_count_by_group.groupby(['LIFESTAGE','MEMBER_TYPE'])['LYLTY_CARD_NBR'].nunique().unstack().reset_index()\n",
    "cus_count_by_group = cus_count_by_group.melt(id_vars='LIFESTAGE', var_name='MEMBER_TYPE', value_name='CUSTOMER_COUNT')\n",
    "cus_count_by_group\n"
   ]
  },
  {
   "cell_type": "code",
   "execution_count": 563,
   "id": "b3fb525d-c4ed-411a-a9ad-ffe0b7acd5d4",
   "metadata": {},
   "outputs": [
    {
     "data": {
      "image/png": "[encoded data removed]",
      "text/plain": [
       "<Figure size 1300x500 with 1 Axes>"
      ]
     },
     "metadata": {},
     "output_type": "display_data"
    }
   ],
   "source": [
    "plt.figure(figsize=(13, 5))\n",
    "sns.barplot(x='CUSTOMER_COUNT', y='LIFESTAGE', hue='MEMBER_TYPE', data=cus_count_by_group)\n",
    "plt.title('Number of Customers by Segment')\n",
    "plt.xlabel('Number of Customers')\n",
    "plt.ylabel('Lifestage')\n",
    "plt.show()"
   ]
  },
  {
   "cell_type": "code",
   "execution_count": null,
   "id": "7626b19c-e24f-488e-932f-fa3df3fe06ed",
   "metadata": {},
   "outputs": [],
   "source": [
    "## There are more Mainstream - young singles/couples and Mainstream - retirees who buy chips\n",
    "## This contributes to there being more sales to these customer segments \n",
    "## But this is not a major driver for the Budget - Older families segment\n"
   ]
  },
  {
   "cell_type": "code",
   "execution_count": 565,
   "id": "02d2d85e-34e2-4613-a612-fdad803664e5",
   "metadata": {},
   "outputs": [],
   "source": [
    "## Lets see if the higher sales are due to more units of chips being bought per customer\n",
    "\n",
    "cus_unit_by_group = merged_df[merged_df['LIFESTAGE'] != 'None']\n",
    "cus_unit_by_group = cus_unit_by_group.groupby(['LIFESTAGE','MEMBER_TYPE'])['PROD_QTY'].sum().unstack().reset_index()\n",
    "cus_unit_by_group = cus_unit_by_group.melt(id_vars='LIFESTAGE', var_name='MEMBER_TYPE', value_name='TOTAL_UNITS')"
   ]
  },
  {
   "cell_type": "code",
   "execution_count": 566,
   "id": "779388c9-e657-463d-8303-a15858e3d56d",
   "metadata": {},
   "outputs": [
    {
     "data": {
      "image/png": "[encoded data removed]",
      "text/plain": [
       "<Figure size 1300x500 with 1 Axes>"
      ]
     },
     "metadata": {},
     "output_type": "display_data"
    }
   ],
   "source": [
    "# Create plot\n",
    "\n",
    "plt.figure(figsize=(13, 5))\n",
    "sns.barplot(x='TOTAL_UNITS', y='LIFESTAGE', hue='MEMBER_TYPE', data=cus_unit_by_group)\n",
    "plt.title('Number of Units by Segment')\n",
    "plt.xlabel('Number of Units')\n",
    "plt.ylabel('Lifestage')\n",
    "plt.show()"
   ]
  },
  {
   "cell_type": "code",
   "execution_count": null,
   "id": "e2bc24b5-656f-4bfb-9921-a648c5ee7d8b",
   "metadata": {},
   "outputs": [],
   "source": [
    "## Budget - older families, Mainstream - young singles/couples and Mainstream - retirees buys more chips in total\n",
    "## This contributes to there being more sales to these customer segments \n",
    "\n",
    "## For most segments, the 'premium' customers purchase less chips as compared to 'budget' and 'mainstream' customers, perhaps due to\n",
    "## the ability to purchase healthier choice of food"
   ]
  },
  {
   "cell_type": "code",
   "execution_count": 568,
   "id": "d900723d-a23d-4422-a31b-d35a914e1b98",
   "metadata": {},
   "outputs": [
    {
     "data": {
      "text/html": [
       "<div>\n",
       "<style scoped>\n",
       "    .dataframe tbody tr th:only-of-type {\n",
       "        vertical-align: middle;\n",
       "    }\n",
       "\n",
       "    .dataframe tbody tr th {\n",
       "        vertical-align: top;\n",
       "    }\n",
       "\n",
       "    .dataframe thead th {\n",
       "        text-align: right;\n",
       "    }\n",
       "</style>\n",
       "<table border=\"1\" class=\"dataframe\">\n",
       "  <thead>\n",
       "    <tr style=\"text-align: right;\">\n",
       "      <th></th>\n",
       "      <th>LIFESTAGE</th>\n",
       "      <th>MEMBER_TYPE</th>\n",
       "      <th>BRAND_NAME</th>\n",
       "      <th>PROD_SIZE</th>\n",
       "      <th>TOT_SALES</th>\n",
       "    </tr>\n",
       "  </thead>\n",
       "  <tbody>\n",
       "    <tr>\n",
       "      <th>0</th>\n",
       "      <td>YOUNG SINGLES/COUPLES</td>\n",
       "      <td>Mainstream</td>\n",
       "      <td>Kettle</td>\n",
       "      <td>175g</td>\n",
       "      <td>17863.2</td>\n",
       "    </tr>\n",
       "    <tr>\n",
       "      <th>1</th>\n",
       "      <td>OLDER FAMILIES</td>\n",
       "      <td>Budget</td>\n",
       "      <td>Kettle</td>\n",
       "      <td>175g</td>\n",
       "      <td>16237.8</td>\n",
       "    </tr>\n",
       "    <tr>\n",
       "      <th>2</th>\n",
       "      <td>YOUNG SINGLES/COUPLES</td>\n",
       "      <td>Mainstream</td>\n",
       "      <td>Pringles</td>\n",
       "      <td>134g</td>\n",
       "      <td>16006.2</td>\n",
       "    </tr>\n",
       "    <tr>\n",
       "      <th>3</th>\n",
       "      <td>RETIREES</td>\n",
       "      <td>Mainstream</td>\n",
       "      <td>Kettle</td>\n",
       "      <td>175g</td>\n",
       "      <td>15411.6</td>\n",
       "    </tr>\n",
       "    <tr>\n",
       "      <th>4</th>\n",
       "      <td>YOUNG SINGLES/COUPLES</td>\n",
       "      <td>Mainstream</td>\n",
       "      <td>Kettle</td>\n",
       "      <td>150g</td>\n",
       "      <td>15313.4</td>\n",
       "    </tr>\n",
       "    <tr>\n",
       "      <th>5</th>\n",
       "      <td>RETIREES</td>\n",
       "      <td>Mainstream</td>\n",
       "      <td>Pringles</td>\n",
       "      <td>134g</td>\n",
       "      <td>14781.5</td>\n",
       "    </tr>\n",
       "    <tr>\n",
       "      <th>6</th>\n",
       "      <td>OLDER SINGLES/COUPLES</td>\n",
       "      <td>Budget</td>\n",
       "      <td>Kettle</td>\n",
       "      <td>175g</td>\n",
       "      <td>14401.8</td>\n",
       "    </tr>\n",
       "    <tr>\n",
       "      <th>7</th>\n",
       "      <td>OLDER FAMILIES</td>\n",
       "      <td>Budget</td>\n",
       "      <td>Pringles</td>\n",
       "      <td>134g</td>\n",
       "      <td>14300.5</td>\n",
       "    </tr>\n",
       "    <tr>\n",
       "      <th>8</th>\n",
       "      <td>RETIREES</td>\n",
       "      <td>Mainstream</td>\n",
       "      <td>Kettle</td>\n",
       "      <td>150g</td>\n",
       "      <td>14145.0</td>\n",
       "    </tr>\n",
       "    <tr>\n",
       "      <th>9</th>\n",
       "      <td>OLDER SINGLES/COUPLES</td>\n",
       "      <td>Premium</td>\n",
       "      <td>Kettle</td>\n",
       "      <td>175g</td>\n",
       "      <td>14002.2</td>\n",
       "    </tr>\n",
       "  </tbody>\n",
       "</table>\n",
       "</div>"
      ],
      "text/plain": [
       "               LIFESTAGE MEMBER_TYPE BRAND_NAME PROD_SIZE  TOT_SALES\n",
       "0  YOUNG SINGLES/COUPLES  Mainstream     Kettle      175g    17863.2\n",
       "1         OLDER FAMILIES      Budget     Kettle      175g    16237.8\n",
       "2  YOUNG SINGLES/COUPLES  Mainstream   Pringles      134g    16006.2\n",
       "3               RETIREES  Mainstream     Kettle      175g    15411.6\n",
       "4  YOUNG SINGLES/COUPLES  Mainstream     Kettle      150g    15313.4\n",
       "5               RETIREES  Mainstream   Pringles      134g    14781.5\n",
       "6  OLDER SINGLES/COUPLES      Budget     Kettle      175g    14401.8\n",
       "7         OLDER FAMILIES      Budget   Pringles      134g    14300.5\n",
       "8               RETIREES  Mainstream     Kettle      150g    14145.0\n",
       "9  OLDER SINGLES/COUPLES     Premium     Kettle      175g    14002.2"
      ]
     },
     "execution_count": 568,
     "metadata": {},
     "output_type": "execute_result"
    }
   ],
   "source": [
    "## Lets see which brand is the most popular amongs \n",
    "## Budget - older families, Mainstream - young singles/couples and Mainstream - retirees \n",
    "\n",
    "best_brand_per_cus_segment = merged_df[merged_df['LIFESTAGE'] != 'None']\n",
    "best_brand_per_cus_segment = best_brand_per_cus_segment.groupby([\"LIFESTAGE\",\"MEMBER_TYPE\",\"BRAND_NAME\",\"PROD_SIZE\"])[\"TOT_SALES\"].sum().reset_index().sort_values(by = \"TOT_SALES\", ascending = False)\n",
    "best_brand_per_cus_segment = best_brand_per_cus_segment[best_brand_per_cus_segment['MEMBER_TYPE'] != 'None'].reset_index(drop=True)## None type is from the row that we added in for 2018-12-25\n",
    "best_brand_per_cus_segment.head(10)"
   ]
  },
  {
   "cell_type": "code",
   "execution_count": null,
   "id": "93867003-6292-4481-b2cc-931ce506032a",
   "metadata": {},
   "outputs": [],
   "source": [
    "## Kettle, 175g is the most popular brand amongst those segments, and stores should promote that brand the heaviest"
   ]
  },
  {
   "cell_type": "code",
   "execution_count": null,
   "id": "f726987a-be26-44f5-bd1b-abebe7cfd041",
   "metadata": {},
   "outputs": [],
   "source": [
    "## Summary\n",
    "## The three highest contributing segments to the total sales are:\n",
    "## Older families - Budget, Young singles/couples - Mainstream, Retirees - Mainstream\n",
    "\n",
    "## The largest population group is mainstream young singles/couples, followed by mainstream retirees which explains their large total sales. \n",
    "## For budget older families, they buy more chips in terms of volume, hence accounting for the highest\n",
    "## total sales by that group.\n",
    "\n",
    "## Kettle and Pringles is the also the highest-selling brand, with 175g being the most popular size\n",
    "\n",
    "## Generally, sales increase when nearing Christmas and is at its peak the day before. During that time frame, Kettle is the best-selling brand\n",
    "## and customers generally prefer the 380g package size during that time of the year."
   ]
  }
 ],
 "metadata": {
  "kernelspec": {
   "display_name": "Python 3 (ipykernel)",
   "language": "python",
   "name": "python3"
  },
  "language_info": {
   "codemirror_mode": {
    "name": "ipython",
    "version": 3
   },
   "file_extension": ".py",
   "mimetype": "text/x-python",
   "name": "python",
   "nbconvert_exporter": "python",
   "pygments_lexer": "ipython3",
   "version": "3.10.11"
  }
 },
 "nbformat": 4,
 "nbformat_minor": 5
}
